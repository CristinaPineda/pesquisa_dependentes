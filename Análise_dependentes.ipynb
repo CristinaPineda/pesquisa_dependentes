{
  "nbformat": 4,
  "nbformat_minor": 0,
  "metadata": {
    "colab": {
      "name": "Análise_dependentes.ipynb",
      "provenance": [],
      "collapsed_sections": []
    },
    "kernelspec": {
      "name": "python3",
      "display_name": "Python 3"
    }
  },
  "cells": [
    {
      "cell_type": "markdown",
      "metadata": {
        "id": "AgSDCiyNbKk0"
      },
      "source": [
        "A proposta desse questionário foi feita pelo Dr. Valmir de Souza, professor, \n",
        "consultor de politicas sociais do Instituto Polis, membro do grupo de Políticas públicas de acesso a informação(GPOPAI/EACH/USP), membro da Rede Paulista de pesquisadores de Cultura, Diretor do SIMPRO Guarulhos.\n",
        "\n",
        "Graduando: Edimar Ribeiro de Moura, primeiro periodo de Serviço Social pela Univeritas/Ung, presidente/coordenador do Centro de Reabilitação Cidade de Refúgio.\n",
        "\n",
        "Analista de dados: Cristina Pineda Ribeiro de Moura, Especialista em BI, Big Data, Data Analytics, desenvolvedora Python.\n",
        "\n",
        "\n",
        "\n",
        "A finalidade dessa pesquisa foi elencar os principais motivos, do ponto de vista\n",
        "dos familiares, que levaram os dependentes químicos ao consumo dessas\n",
        "substâncias.\n",
        "\n",
        "A população total foi de: 55 familiares, o questionário foi enviado por meio de\n",
        "aplicativo WhatsApp e Facebook.\n",
        "O questionário foi elaborado com 17 perguntas."
      ]
    },
    {
      "cell_type": "markdown",
      "metadata": {
        "id": "EvYHTLc1kjdr"
      },
      "source": [
        "#Dados colhidos no periodo de 11 de novembro de 2020 a 14 de novembro de 2020\n",
        "\n",
        "##Perguntas:\n",
        "\n",
        "1.   Você possui familiares com dependência química?\n",
        "2.   Qual o seu grau de parentesco com o dependente químico?\t\n",
        "3.   Atualmente você é responsável pelo dependente químico?\t\n",
        "4.   Qual o gênero do dependente químico?\n",
        "5.   Qual a cor do dependente químico?\n",
        "6.   Qual a idade do dependente químico?\n",
        "7.   Qual é a renda familiar?\n",
        "8.   Em qual idade você descobriu que o seu familiar fazia uso de drogas? Digite somente a idade.\n",
        "9.   Há outros casos de dependência química anteriores a esse na família?\n",
        "10.   Seu familiar está empregado?\t\n",
        "11.   Se não estiver empregado, perdeu ou não conseguiu arrumar emprego por conta da dependência? (se estiver empregado não responder)\n",
        "12.   Se estiver desempregado, há quanto tempo está nessa situação, sem emprego? ( se estiver empregado não responder)\n",
        "13.   Na sua opinião, quais fatores contribuíram para seu familiar começar o uso de drogas? (escolha quantas opções quiser)\t\n",
        "14.   Você tem algum auxilio do poder público para o tratamento do seu familiar? (atendimento do serviço social, auxilio da previdência ou algum outro beneficio)\n",
        "15.   Você acredita na recuperação do seu familiar?\t\n",
        "16.   Seu familiar já passou por algum tratamento para a dependência química?\t\n",
        "17.   Seu familiar se recuperou e não voltou à dependência?"
      ]
    },
    {
      "cell_type": "code",
      "metadata": {
        "id": "CWTKUtaa9IED",
        "colab": {
          "base_uri": "https://localhost:8080/",
          "height": 649
        },
        "outputId": "87734f1e-2164-4516-c47d-0e6164074b1e"
      },
      "source": [
        "# Dataset extraido do GoogleForms na data do fechamento do formulário de respostas\n",
        "\n",
        "df = pd.read_csv('https://raw.githubusercontent.com/CristinaPineda/pesquisa_dependentes/main/dependentes.csv/Formul%C3%A1rio%20sem%20t%C3%ADtulo.csv')\n",
        "df.head()"
      ],
      "execution_count": 2,
      "outputs": [
        {
          "output_type": "execute_result",
          "data": {
            "text/html": [
              "<div>\n",
              "<style scoped>\n",
              "    .dataframe tbody tr th:only-of-type {\n",
              "        vertical-align: middle;\n",
              "    }\n",
              "\n",
              "    .dataframe tbody tr th {\n",
              "        vertical-align: top;\n",
              "    }\n",
              "\n",
              "    .dataframe thead th {\n",
              "        text-align: right;\n",
              "    }\n",
              "</style>\n",
              "<table border=\"1\" class=\"dataframe\">\n",
              "  <thead>\n",
              "    <tr style=\"text-align: right;\">\n",
              "      <th></th>\n",
              "      <th>Carimbo de data/hora</th>\n",
              "      <th>Você possui familiares com dependência química?</th>\n",
              "      <th>Qual o seu grau de parentesco com o dependente químico?</th>\n",
              "      <th>Atualmente você é responsável pelo dependente químico?</th>\n",
              "      <th>Qual o gênero do dependente químico?</th>\n",
              "      <th>Qual a cor do dependente químico?</th>\n",
              "      <th>Qual a idade do dependente químico?</th>\n",
              "      <th>Qual é a renda familiar?</th>\n",
              "      <th>Em qual idade você descobriu que o seu familiar fazia uso de drogas? Digite somente a idade.</th>\n",
              "      <th>Há outros casos  de dependência química anteriores a esse na família?</th>\n",
              "      <th>Seu familiar está empregado?</th>\n",
              "      <th>Se não estiver empregado, perdeu ou não conseguiu arrumar emprego por conta da dependência? (se estiver empregado não responder)</th>\n",
              "      <th>Se estiver desempregado, há quanto tempo está nessa situação, sem emprego? ( se estiver empregado não responder)</th>\n",
              "      <th>Na sua opinião, quais fatores contribuíram para seu familiar começar o uso de drogas? (escolha quantas opções quiser)</th>\n",
              "      <th>Você tem algum auxilio do poder público para o tratamento do seu familiar? (atendimento do serviço social, auxilio da previdência ou algum outro beneficio)</th>\n",
              "      <th>Você acredita na recuperação do seu familiar?</th>\n",
              "      <th>Seu familiar já passou por algum tratamento para a dependência química?</th>\n",
              "      <th>Seu familiar se recuperou e não voltou à dependência?</th>\n",
              "    </tr>\n",
              "  </thead>\n",
              "  <tbody>\n",
              "    <tr>\n",
              "      <th>0</th>\n",
              "      <td>2020/11/11 10:48:08 PM GMT-3</td>\n",
              "      <td>Não</td>\n",
              "      <td>NaN</td>\n",
              "      <td>NaN</td>\n",
              "      <td>NaN</td>\n",
              "      <td>NaN</td>\n",
              "      <td>NaN</td>\n",
              "      <td>NaN</td>\n",
              "      <td>NaN</td>\n",
              "      <td>NaN</td>\n",
              "      <td>NaN</td>\n",
              "      <td>NaN</td>\n",
              "      <td>NaN</td>\n",
              "      <td>NaN</td>\n",
              "      <td>NaN</td>\n",
              "      <td>NaN</td>\n",
              "      <td>NaN</td>\n",
              "      <td>NaN</td>\n",
              "    </tr>\n",
              "    <tr>\n",
              "      <th>1</th>\n",
              "      <td>2020/11/11 10:50:27 PM GMT-3</td>\n",
              "      <td>Sim</td>\n",
              "      <td>Filho(a)</td>\n",
              "      <td>Sim</td>\n",
              "      <td>Masculino</td>\n",
              "      <td>Parda</td>\n",
              "      <td>26 a 33 anos</td>\n",
              "      <td>Até 1 salário mínimo</td>\n",
              "      <td>17 anos</td>\n",
              "      <td>Não</td>\n",
              "      <td>Não</td>\n",
              "      <td>Não</td>\n",
              "      <td>Acima de 2 anos</td>\n",
              "      <td>Decepção amorosa;Depressão / Ansiedade</td>\n",
              "      <td>Não</td>\n",
              "      <td>Sim</td>\n",
              "      <td>Sim</td>\n",
              "      <td>Sim</td>\n",
              "    </tr>\n",
              "    <tr>\n",
              "      <th>2</th>\n",
              "      <td>2020/11/11 10:50:48 PM GMT-3</td>\n",
              "      <td>Sim</td>\n",
              "      <td>Primo , tio</td>\n",
              "      <td>Não</td>\n",
              "      <td>Masculino</td>\n",
              "      <td>Preto e outro cor branca</td>\n",
              "      <td>26 a 33 anos</td>\n",
              "      <td>Até 1 salário mínimo</td>\n",
              "      <td>Desde de pequeno</td>\n",
              "      <td>Não</td>\n",
              "      <td>Sim</td>\n",
              "      <td>NaN</td>\n",
              "      <td>NaN</td>\n",
              "      <td>Problema familiar , amizades, revolta</td>\n",
              "      <td>Não</td>\n",
              "      <td>Sim</td>\n",
              "      <td>Sim</td>\n",
              "      <td>Sim</td>\n",
              "    </tr>\n",
              "    <tr>\n",
              "      <th>3</th>\n",
              "      <td>2020/11/11 10:54:06 PM GMT-3</td>\n",
              "      <td>Sim</td>\n",
              "      <td>Irmão(ã)</td>\n",
              "      <td>Não</td>\n",
              "      <td>Masculino</td>\n",
              "      <td>Branca</td>\n",
              "      <td>50 anos ou mais</td>\n",
              "      <td>Até 1 salário mínimo</td>\n",
              "      <td>40</td>\n",
              "      <td>Não</td>\n",
              "      <td>Sim</td>\n",
              "      <td>NaN</td>\n",
              "      <td>Menos de 1 ano</td>\n",
              "      <td>Decepção amorosa</td>\n",
              "      <td>Não</td>\n",
              "      <td>Sim</td>\n",
              "      <td>Não</td>\n",
              "      <td>Não</td>\n",
              "    </tr>\n",
              "    <tr>\n",
              "      <th>4</th>\n",
              "      <td>2020/11/11 10:58:02 PM GMT-3</td>\n",
              "      <td>Sim</td>\n",
              "      <td>Tio</td>\n",
              "      <td>Não</td>\n",
              "      <td>Feminino</td>\n",
              "      <td>Preta</td>\n",
              "      <td>42 a 49 anos</td>\n",
              "      <td>Até 1 salário mínimo</td>\n",
              "      <td>Uns 15 anos</td>\n",
              "      <td>Sim</td>\n",
              "      <td>Não</td>\n",
              "      <td>Sim</td>\n",
              "      <td>Acima de 2 anos</td>\n",
              "      <td>Amigos</td>\n",
              "      <td>Não</td>\n",
              "      <td>Sim</td>\n",
              "      <td>Não</td>\n",
              "      <td>Não</td>\n",
              "    </tr>\n",
              "  </tbody>\n",
              "</table>\n",
              "</div>"
            ],
            "text/plain": [
              "           Carimbo de data/hora  ... Seu familiar se recuperou e não voltou à dependência? \n",
              "0  2020/11/11 10:48:08 PM GMT-3  ...                                                NaN    \n",
              "1  2020/11/11 10:50:27 PM GMT-3  ...                                                Sim    \n",
              "2  2020/11/11 10:50:48 PM GMT-3  ...                                                Sim    \n",
              "3  2020/11/11 10:54:06 PM GMT-3  ...                                                Não    \n",
              "4  2020/11/11 10:58:02 PM GMT-3  ...                                                Não    \n",
              "\n",
              "[5 rows x 18 columns]"
            ]
          },
          "metadata": {
            "tags": []
          },
          "execution_count": 2
        }
      ]
    },
    {
      "cell_type": "code",
      "metadata": {
        "colab": {
          "base_uri": "https://localhost:8080/"
        },
        "id": "-GaZP0ynbzZV",
        "outputId": "c8f6fa67-413a-4535-e694-a80e872a3ea9"
      },
      "source": [
        "df.shape"
      ],
      "execution_count": 7,
      "outputs": [
        {
          "output_type": "execute_result",
          "data": {
            "text/plain": [
              "(55, 18)"
            ]
          },
          "metadata": {
            "tags": []
          },
          "execution_count": 7
        }
      ]
    },
    {
      "cell_type": "code",
      "metadata": {
        "id": "sLLGg_qg9CCk"
      },
      "source": [
        "import pandas as pd \n",
        "import numpy as np\n",
        "import matplotlib.pyplot as plt\n",
        "import seaborn as sns"
      ],
      "execution_count": 1,
      "outputs": []
    },
    {
      "cell_type": "code",
      "metadata": {
        "id": "HZlcv5v83Tfs",
        "colab": {
          "base_uri": "https://localhost:8080/"
        },
        "outputId": "9ad956de-c464-4b47-c448-3f77b1f6c944"
      },
      "source": [
        "df.info()"
      ],
      "execution_count": null,
      "outputs": [
        {
          "output_type": "stream",
          "text": [
            "<class 'pandas.core.frame.DataFrame'>\n",
            "RangeIndex: 55 entries, 0 to 54\n",
            "Data columns (total 18 columns):\n",
            " #   Column                                                                                                                                                       Non-Null Count  Dtype \n",
            "---  ------                                                                                                                                                       --------------  ----- \n",
            " 0   Carimbo de data/hora                                                                                                                                         55 non-null     object\n",
            " 1   Você possui familiares com dependência química?                                                                                                              55 non-null     object\n",
            " 2   Qual o seu grau de parentesco com o dependente químico?                                                                                                      38 non-null     object\n",
            " 3   Atualmente você é responsável pelo dependente químico?                                                                                                       38 non-null     object\n",
            " 4   Qual o gênero do dependente químico?                                                                                                                         38 non-null     object\n",
            " 5   Qual a cor do dependente químico?                                                                                                                            38 non-null     object\n",
            " 6   Qual a idade do dependente químico?                                                                                                                          38 non-null     object\n",
            " 7   Qual é a renda familiar?                                                                                                                                     38 non-null     object\n",
            " 8   Em qual idade você descobriu que o seu familiar fazia uso de drogas? Digite somente a idade.                                                                 38 non-null     object\n",
            " 9   Há outros casos  de dependência química anteriores a esse na família?                                                                                        38 non-null     object\n",
            " 10  Seu familiar está empregado?                                                                                                                                 38 non-null     object\n",
            " 11  Se não estiver empregado, perdeu ou não conseguiu arrumar emprego por conta da dependência? (se estiver empregado não responder)                             28 non-null     object\n",
            " 12  Se estiver desempregado, há quanto tempo está nessa situação, sem emprego? ( se estiver empregado não responder)                                             30 non-null     object\n",
            " 13  Na sua opinião, quais fatores contribuíram para seu familiar começar o uso de drogas? (escolha quantas opções quiser)                                        38 non-null     object\n",
            " 14  Você tem algum auxilio do poder público para o tratamento do seu familiar? (atendimento do serviço social, auxilio da previdência ou algum outro beneficio)  38 non-null     object\n",
            " 15  Você acredita na recuperação do seu familiar?                                                                                                                38 non-null     object\n",
            " 16  Seu familiar já passou por algum tratamento para a dependência química?                                                                                      38 non-null     object\n",
            " 17  Seu familiar se recuperou e não voltou à dependência?                                                                                                        38 non-null     object\n",
            "dtypes: object(18)\n",
            "memory usage: 7.9+ KB\n"
          ],
          "name": "stdout"
        }
      ]
    },
    {
      "cell_type": "code",
      "metadata": {
        "id": "1_a6TUp93ljh",
        "colab": {
          "base_uri": "https://localhost:8080/"
        },
        "outputId": "ddc5095d-d5c2-42c7-c2bd-11b4d6215fd0"
      },
      "source": [
        "df.columns"
      ],
      "execution_count": null,
      "outputs": [
        {
          "output_type": "execute_result",
          "data": {
            "text/plain": [
              "Index(['Carimbo de data/hora',\n",
              "       'Você possui familiares com dependência química?',\n",
              "       'Qual o seu grau de parentesco com o dependente químico?',\n",
              "       'Atualmente você é responsável pelo dependente químico?',\n",
              "       'Qual o gênero do dependente químico? ',\n",
              "       'Qual a cor do dependente químico? ',\n",
              "       'Qual a idade do dependente químico?', 'Qual é a renda familiar? ',\n",
              "       'Em qual idade você descobriu que o seu familiar fazia uso de drogas? Digite somente a idade.',\n",
              "       'Há outros casos  de dependência química anteriores a esse na família?',\n",
              "       'Seu familiar está empregado?',\n",
              "       'Se não estiver empregado, perdeu ou não conseguiu arrumar emprego por conta da dependência? (se estiver empregado não responder)',\n",
              "       'Se estiver desempregado, há quanto tempo está nessa situação, sem emprego? ( se estiver empregado não responder)',\n",
              "       'Na sua opinião, quais fatores contribuíram para seu familiar começar o uso de drogas? (escolha quantas opções quiser)',\n",
              "       'Você tem algum auxilio do poder público para o tratamento do seu familiar? (atendimento do serviço social, auxilio da previdência ou algum outro beneficio)',\n",
              "       'Você acredita na recuperação do seu familiar? ',\n",
              "       'Seu familiar já passou por algum tratamento para a dependência química?',\n",
              "       'Seu familiar se recuperou e não voltou à dependência? '],\n",
              "      dtype='object')"
            ]
          },
          "metadata": {
            "tags": []
          },
          "execution_count": 4
        }
      ]
    },
    {
      "cell_type": "markdown",
      "metadata": {
        "id": "hNjQQrO3ohBG"
      },
      "source": [
        "#Limpeza dos dados\n",
        "\n",
        "##Os próximos comandos são de limpeza dos dados para a realização da análise\n",
        "\n",
        "Dados inconsistentes geram ruídos que trazem resultados sem clareza e por vezes podem até enviezar as analises. \n",
        "\n",
        "Neste caso a opção foi por modificações que trouxessem valor aos dados e tornassem a análise mais efetiva.\n",
        "\n",
        "Foram colhidas o total de 55 respostas.\n"
      ]
    },
    {
      "cell_type": "code",
      "metadata": {
        "id": "gBCwSioZ9kxt",
        "colab": {
          "base_uri": "https://localhost:8080/",
          "height": 615
        },
        "outputId": "1e4e6d08-feca-4783-9ed5-0ffd0b6a3802"
      },
      "source": [
        "# a coluna com o carimbo da data e hora da resposta não é necessária, vamos remove-la\n",
        "df = df.drop(columns=['Carimbo de data/hora'])\n",
        "df.head()"
      ],
      "execution_count": null,
      "outputs": [
        {
          "output_type": "execute_result",
          "data": {
            "text/html": [
              "<div>\n",
              "<style scoped>\n",
              "    .dataframe tbody tr th:only-of-type {\n",
              "        vertical-align: middle;\n",
              "    }\n",
              "\n",
              "    .dataframe tbody tr th {\n",
              "        vertical-align: top;\n",
              "    }\n",
              "\n",
              "    .dataframe thead th {\n",
              "        text-align: right;\n",
              "    }\n",
              "</style>\n",
              "<table border=\"1\" class=\"dataframe\">\n",
              "  <thead>\n",
              "    <tr style=\"text-align: right;\">\n",
              "      <th></th>\n",
              "      <th>Você possui familiares com dependência química?</th>\n",
              "      <th>Qual o seu grau de parentesco com o dependente químico?</th>\n",
              "      <th>Atualmente você é responsável pelo dependente químico?</th>\n",
              "      <th>Qual o gênero do dependente químico?</th>\n",
              "      <th>Qual a cor do dependente químico?</th>\n",
              "      <th>Qual a idade do dependente químico?</th>\n",
              "      <th>Qual é a renda familiar?</th>\n",
              "      <th>Em qual idade você descobriu que o seu familiar fazia uso de drogas? Digite somente a idade.</th>\n",
              "      <th>Há outros casos  de dependência química anteriores a esse na família?</th>\n",
              "      <th>Seu familiar está empregado?</th>\n",
              "      <th>Se não estiver empregado, perdeu ou não conseguiu arrumar emprego por conta da dependência? (se estiver empregado não responder)</th>\n",
              "      <th>Se estiver desempregado, há quanto tempo está nessa situação, sem emprego? ( se estiver empregado não responder)</th>\n",
              "      <th>Na sua opinião, quais fatores contribuíram para seu familiar começar o uso de drogas? (escolha quantas opções quiser)</th>\n",
              "      <th>Você tem algum auxilio do poder público para o tratamento do seu familiar? (atendimento do serviço social, auxilio da previdência ou algum outro beneficio)</th>\n",
              "      <th>Você acredita na recuperação do seu familiar?</th>\n",
              "      <th>Seu familiar já passou por algum tratamento para a dependência química?</th>\n",
              "      <th>Seu familiar se recuperou e não voltou à dependência?</th>\n",
              "    </tr>\n",
              "  </thead>\n",
              "  <tbody>\n",
              "    <tr>\n",
              "      <th>0</th>\n",
              "      <td>Não</td>\n",
              "      <td>NaN</td>\n",
              "      <td>NaN</td>\n",
              "      <td>NaN</td>\n",
              "      <td>NaN</td>\n",
              "      <td>NaN</td>\n",
              "      <td>NaN</td>\n",
              "      <td>NaN</td>\n",
              "      <td>NaN</td>\n",
              "      <td>NaN</td>\n",
              "      <td>NaN</td>\n",
              "      <td>NaN</td>\n",
              "      <td>NaN</td>\n",
              "      <td>NaN</td>\n",
              "      <td>NaN</td>\n",
              "      <td>NaN</td>\n",
              "      <td>NaN</td>\n",
              "    </tr>\n",
              "    <tr>\n",
              "      <th>1</th>\n",
              "      <td>Sim</td>\n",
              "      <td>Filho(a)</td>\n",
              "      <td>Sim</td>\n",
              "      <td>Masculino</td>\n",
              "      <td>Parda</td>\n",
              "      <td>26 a 33 anos</td>\n",
              "      <td>Até 1 salário mínimo</td>\n",
              "      <td>17 anos</td>\n",
              "      <td>Não</td>\n",
              "      <td>Não</td>\n",
              "      <td>Não</td>\n",
              "      <td>Acima de 2 anos</td>\n",
              "      <td>Decepção amorosa;Depressão / Ansiedade</td>\n",
              "      <td>Não</td>\n",
              "      <td>Sim</td>\n",
              "      <td>Sim</td>\n",
              "      <td>Sim</td>\n",
              "    </tr>\n",
              "    <tr>\n",
              "      <th>2</th>\n",
              "      <td>Sim</td>\n",
              "      <td>Primo , tio</td>\n",
              "      <td>Não</td>\n",
              "      <td>Masculino</td>\n",
              "      <td>Preto e outro cor branca</td>\n",
              "      <td>26 a 33 anos</td>\n",
              "      <td>Até 1 salário mínimo</td>\n",
              "      <td>Desde de pequeno</td>\n",
              "      <td>Não</td>\n",
              "      <td>Sim</td>\n",
              "      <td>NaN</td>\n",
              "      <td>NaN</td>\n",
              "      <td>Problema familiar , amizades, revolta</td>\n",
              "      <td>Não</td>\n",
              "      <td>Sim</td>\n",
              "      <td>Sim</td>\n",
              "      <td>Sim</td>\n",
              "    </tr>\n",
              "    <tr>\n",
              "      <th>3</th>\n",
              "      <td>Sim</td>\n",
              "      <td>Irmão(ã)</td>\n",
              "      <td>Não</td>\n",
              "      <td>Masculino</td>\n",
              "      <td>Branca</td>\n",
              "      <td>50 anos ou mais</td>\n",
              "      <td>Até 1 salário mínimo</td>\n",
              "      <td>40</td>\n",
              "      <td>Não</td>\n",
              "      <td>Sim</td>\n",
              "      <td>NaN</td>\n",
              "      <td>Menos de 1 ano</td>\n",
              "      <td>Decepção amorosa</td>\n",
              "      <td>Não</td>\n",
              "      <td>Sim</td>\n",
              "      <td>Não</td>\n",
              "      <td>Não</td>\n",
              "    </tr>\n",
              "    <tr>\n",
              "      <th>4</th>\n",
              "      <td>Sim</td>\n",
              "      <td>Tio</td>\n",
              "      <td>Não</td>\n",
              "      <td>Feminino</td>\n",
              "      <td>Preta</td>\n",
              "      <td>42 a 49 anos</td>\n",
              "      <td>Até 1 salário mínimo</td>\n",
              "      <td>Uns 15 anos</td>\n",
              "      <td>Sim</td>\n",
              "      <td>Não</td>\n",
              "      <td>Sim</td>\n",
              "      <td>Acima de 2 anos</td>\n",
              "      <td>Amigos</td>\n",
              "      <td>Não</td>\n",
              "      <td>Sim</td>\n",
              "      <td>Não</td>\n",
              "      <td>Não</td>\n",
              "    </tr>\n",
              "  </tbody>\n",
              "</table>\n",
              "</div>"
            ],
            "text/plain": [
              "  Você possui familiares com dependência química?  ... Seu familiar se recuperou e não voltou à dependência? \n",
              "0                                             Não  ...                                                NaN    \n",
              "1                                             Sim  ...                                                Sim    \n",
              "2                                             Sim  ...                                                Sim    \n",
              "3                                             Sim  ...                                                Não    \n",
              "4                                             Sim  ...                                                Não    \n",
              "\n",
              "[5 rows x 17 columns]"
            ]
          },
          "metadata": {
            "tags": []
          },
          "execution_count": 5
        }
      ]
    },
    {
      "cell_type": "code",
      "metadata": {
        "id": "cfEfMBLgqS_t"
      },
      "source": [
        "# a linha com o índice 2 possui respostas que indicam a referencia a duas pessoas, como esse tipo de resposta não é o que queremos vamor retira-la também.\n",
        "df = df.drop(2)"
      ],
      "execution_count": null,
      "outputs": []
    },
    {
      "cell_type": "code",
      "metadata": {
        "id": "Yp31qxVUynv5"
      },
      "source": [
        "# a linha com o índice 52 foi respondida pelo próprio dependente, então retiramos ela pois a análise tem o ponto de vista dos familiares do dependente\n",
        "df = df.drop(52)"
      ],
      "execution_count": null,
      "outputs": []
    },
    {
      "cell_type": "code",
      "metadata": {
        "id": "c7nRZ8u0vLOm",
        "colab": {
          "base_uri": "https://localhost:8080/"
        },
        "outputId": "8af9c5ba-bfa1-4580-817b-d6a437efcef3"
      },
      "source": [
        "#tamanho do dataset\n",
        "df.shape"
      ],
      "execution_count": null,
      "outputs": [
        {
          "output_type": "execute_result",
          "data": {
            "text/plain": [
              "(53, 17)"
            ]
          },
          "metadata": {
            "tags": []
          },
          "execution_count": 8
        }
      ]
    },
    {
      "cell_type": "code",
      "metadata": {
        "id": "HN9rKO8_sD46",
        "colab": {
          "base_uri": "https://localhost:8080/",
          "height": 649
        },
        "outputId": "19b8a45e-536b-480e-e451-88a45db4051c"
      },
      "source": [
        "# Como queremos informações dos parentes de dependentes químicos, as pessoas declaradas sem dependentes químicos na famílias serão separadas\n",
        "df2 = df.loc[df['Você possui familiares com dependência química?']=='Sim']\n",
        "df2.head()"
      ],
      "execution_count": null,
      "outputs": [
        {
          "output_type": "execute_result",
          "data": {
            "text/html": [
              "<div>\n",
              "<style scoped>\n",
              "    .dataframe tbody tr th:only-of-type {\n",
              "        vertical-align: middle;\n",
              "    }\n",
              "\n",
              "    .dataframe tbody tr th {\n",
              "        vertical-align: top;\n",
              "    }\n",
              "\n",
              "    .dataframe thead th {\n",
              "        text-align: right;\n",
              "    }\n",
              "</style>\n",
              "<table border=\"1\" class=\"dataframe\">\n",
              "  <thead>\n",
              "    <tr style=\"text-align: right;\">\n",
              "      <th></th>\n",
              "      <th>Você possui familiares com dependência química?</th>\n",
              "      <th>Qual o seu grau de parentesco com o dependente químico?</th>\n",
              "      <th>Atualmente você é responsável pelo dependente químico?</th>\n",
              "      <th>Qual o gênero do dependente químico?</th>\n",
              "      <th>Qual a cor do dependente químico?</th>\n",
              "      <th>Qual a idade do dependente químico?</th>\n",
              "      <th>Qual é a renda familiar?</th>\n",
              "      <th>Em qual idade você descobriu que o seu familiar fazia uso de drogas? Digite somente a idade.</th>\n",
              "      <th>Há outros casos  de dependência química anteriores a esse na família?</th>\n",
              "      <th>Seu familiar está empregado?</th>\n",
              "      <th>Se não estiver empregado, perdeu ou não conseguiu arrumar emprego por conta da dependência? (se estiver empregado não responder)</th>\n",
              "      <th>Se estiver desempregado, há quanto tempo está nessa situação, sem emprego? ( se estiver empregado não responder)</th>\n",
              "      <th>Na sua opinião, quais fatores contribuíram para seu familiar começar o uso de drogas? (escolha quantas opções quiser)</th>\n",
              "      <th>Você tem algum auxilio do poder público para o tratamento do seu familiar? (atendimento do serviço social, auxilio da previdência ou algum outro beneficio)</th>\n",
              "      <th>Você acredita na recuperação do seu familiar?</th>\n",
              "      <th>Seu familiar já passou por algum tratamento para a dependência química?</th>\n",
              "      <th>Seu familiar se recuperou e não voltou à dependência?</th>\n",
              "    </tr>\n",
              "  </thead>\n",
              "  <tbody>\n",
              "    <tr>\n",
              "      <th>1</th>\n",
              "      <td>Sim</td>\n",
              "      <td>Filho(a)</td>\n",
              "      <td>Sim</td>\n",
              "      <td>Masculino</td>\n",
              "      <td>Parda</td>\n",
              "      <td>26 a 33 anos</td>\n",
              "      <td>Até 1 salário mínimo</td>\n",
              "      <td>17 anos</td>\n",
              "      <td>Não</td>\n",
              "      <td>Não</td>\n",
              "      <td>Não</td>\n",
              "      <td>Acima de 2 anos</td>\n",
              "      <td>Decepção amorosa;Depressão / Ansiedade</td>\n",
              "      <td>Não</td>\n",
              "      <td>Sim</td>\n",
              "      <td>Sim</td>\n",
              "      <td>Sim</td>\n",
              "    </tr>\n",
              "    <tr>\n",
              "      <th>3</th>\n",
              "      <td>Sim</td>\n",
              "      <td>Irmão(ã)</td>\n",
              "      <td>Não</td>\n",
              "      <td>Masculino</td>\n",
              "      <td>Branca</td>\n",
              "      <td>50 anos ou mais</td>\n",
              "      <td>Até 1 salário mínimo</td>\n",
              "      <td>40</td>\n",
              "      <td>Não</td>\n",
              "      <td>Sim</td>\n",
              "      <td>NaN</td>\n",
              "      <td>Menos de 1 ano</td>\n",
              "      <td>Decepção amorosa</td>\n",
              "      <td>Não</td>\n",
              "      <td>Sim</td>\n",
              "      <td>Não</td>\n",
              "      <td>Não</td>\n",
              "    </tr>\n",
              "    <tr>\n",
              "      <th>4</th>\n",
              "      <td>Sim</td>\n",
              "      <td>Tio</td>\n",
              "      <td>Não</td>\n",
              "      <td>Feminino</td>\n",
              "      <td>Preta</td>\n",
              "      <td>42 a 49 anos</td>\n",
              "      <td>Até 1 salário mínimo</td>\n",
              "      <td>Uns 15 anos</td>\n",
              "      <td>Sim</td>\n",
              "      <td>Não</td>\n",
              "      <td>Sim</td>\n",
              "      <td>Acima de 2 anos</td>\n",
              "      <td>Amigos</td>\n",
              "      <td>Não</td>\n",
              "      <td>Sim</td>\n",
              "      <td>Não</td>\n",
              "      <td>Não</td>\n",
              "    </tr>\n",
              "    <tr>\n",
              "      <th>7</th>\n",
              "      <td>Sim</td>\n",
              "      <td>Primo se</td>\n",
              "      <td>Não</td>\n",
              "      <td>Masculino</td>\n",
              "      <td>Branca</td>\n",
              "      <td>26 a 33 anos</td>\n",
              "      <td>De 1 a 3 salários mínimos</td>\n",
              "      <td>Quando tinha 14 anos</td>\n",
              "      <td>Sim</td>\n",
              "      <td>Sim</td>\n",
              "      <td>Sim</td>\n",
              "      <td>De 1 a 2 anos</td>\n",
              "      <td>Amigos</td>\n",
              "      <td>Não</td>\n",
              "      <td>Sim</td>\n",
              "      <td>Sim</td>\n",
              "      <td>Sim</td>\n",
              "    </tr>\n",
              "    <tr>\n",
              "      <th>8</th>\n",
              "      <td>Sim</td>\n",
              "      <td>Irmão(ã)</td>\n",
              "      <td>Sim</td>\n",
              "      <td>Masculino</td>\n",
              "      <td>Parda</td>\n",
              "      <td>42 a 49 anos</td>\n",
              "      <td>De 1 a 3 salários mínimos</td>\n",
              "      <td>18</td>\n",
              "      <td>Sim</td>\n",
              "      <td>Não</td>\n",
              "      <td>Sim</td>\n",
              "      <td>De 1 a 2 anos</td>\n",
              "      <td>Decepção amorosa</td>\n",
              "      <td>Não</td>\n",
              "      <td>Sim</td>\n",
              "      <td>Não</td>\n",
              "      <td>Não</td>\n",
              "    </tr>\n",
              "  </tbody>\n",
              "</table>\n",
              "</div>"
            ],
            "text/plain": [
              "  Você possui familiares com dependência química?  ... Seu familiar se recuperou e não voltou à dependência? \n",
              "1                                             Sim  ...                                                Sim    \n",
              "3                                             Sim  ...                                                Não    \n",
              "4                                             Sim  ...                                                Não    \n",
              "7                                             Sim  ...                                                Sim    \n",
              "8                                             Sim  ...                                                Não    \n",
              "\n",
              "[5 rows x 17 columns]"
            ]
          },
          "metadata": {
            "tags": []
          },
          "execution_count": 9
        }
      ]
    },
    {
      "cell_type": "code",
      "metadata": {
        "id": "E49X6G6kSxEC",
        "colab": {
          "base_uri": "https://localhost:8080/"
        },
        "outputId": "abe516da-75c2-483c-ccb1-f7d2a0afb90c"
      },
      "source": [
        "df2.shape"
      ],
      "execution_count": null,
      "outputs": [
        {
          "output_type": "execute_result",
          "data": {
            "text/plain": [
              "(36, 17)"
            ]
          },
          "metadata": {
            "tags": []
          },
          "execution_count": 10
        }
      ]
    },
    {
      "cell_type": "code",
      "metadata": {
        "id": "TjjdJPTXTeoQ",
        "colab": {
          "base_uri": "https://localhost:8080/"
        },
        "outputId": "a2f13ed9-d61f-4d46-e4d9-5cc2e212a13b"
      },
      "source": [
        "# Vamos substituir valores com tipos mistos para conseguir fazer análises\n",
        "# coluna: Qual o seu grau de parentesco com o dependente químico?\n",
        "\n",
        "df2['Qual o seu grau de parentesco com o dependente químico?'].value_counts()"
      ],
      "execution_count": null,
      "outputs": [
        {
          "output_type": "execute_result",
          "data": {
            "text/plain": [
              "Irmão(ã)            11\n",
              "Filho(a)             5\n",
              "Tio                  3\n",
              "Primos               3\n",
              "Mãe/Pai              2\n",
              "Cônjuge              2\n",
              "Sobrinha             1\n",
              "Amigo                1\n",
              " Cunhado             1\n",
              "Primo se             1\n",
              "Primo                1\n",
              "Irmão de criação     1\n",
              "primo                1\n",
              "Tia                  1\n",
              "Avô                  1\n",
              "Prima                1\n",
              "Name: Qual o seu grau de parentesco com o dependente químico?, dtype: int64"
            ]
          },
          "metadata": {
            "tags": []
          },
          "execution_count": 11
        }
      ]
    },
    {
      "cell_type": "code",
      "metadata": {
        "id": "4GXkPNPzjFtT",
        "colab": {
          "base_uri": "https://localhost:8080/"
        },
        "outputId": "2477068a-b2cd-456e-f0e2-5e5763b79fa9"
      },
      "source": [
        "df2['Qual o seu grau de parentesco com o dependente químico?'] = df2['Qual o seu grau de parentesco com o dependente químico?'].replace(\n",
        "    ['Irmão de criação'], 'Irmão(ã)', inplace=False)\n"
      ],
      "execution_count": null,
      "outputs": [
        {
          "output_type": "stream",
          "text": [
            "/usr/local/lib/python3.6/dist-packages/ipykernel_launcher.py:2: SettingWithCopyWarning: \n",
            "A value is trying to be set on a copy of a slice from a DataFrame.\n",
            "Try using .loc[row_indexer,col_indexer] = value instead\n",
            "\n",
            "See the caveats in the documentation: https://pandas.pydata.org/pandas-docs/stable/user_guide/indexing.html#returning-a-view-versus-a-copy\n",
            "  \n"
          ],
          "name": "stderr"
        }
      ]
    },
    {
      "cell_type": "code",
      "metadata": {
        "id": "4Mhr9bMopaHo",
        "colab": {
          "base_uri": "https://localhost:8080/"
        },
        "outputId": "157c0b35-7b07-45ec-a9da-ff274df6f10d"
      },
      "source": [
        "df2['Qual o seu grau de parentesco com o dependente químico?'] = df2['Qual o seu grau de parentesco com o dependente químico?'].replace(\n",
        "    ['primo', 'Primo se', 'Prima', 'Primos', 'Primo'], 'Primo(a)', inplace=False)\n"
      ],
      "execution_count": null,
      "outputs": [
        {
          "output_type": "stream",
          "text": [
            "/usr/local/lib/python3.6/dist-packages/ipykernel_launcher.py:2: SettingWithCopyWarning: \n",
            "A value is trying to be set on a copy of a slice from a DataFrame.\n",
            "Try using .loc[row_indexer,col_indexer] = value instead\n",
            "\n",
            "See the caveats in the documentation: https://pandas.pydata.org/pandas-docs/stable/user_guide/indexing.html#returning-a-view-versus-a-copy\n",
            "  \n"
          ],
          "name": "stderr"
        }
      ]
    },
    {
      "cell_type": "code",
      "metadata": {
        "id": "EOGGCTlsqH5R",
        "colab": {
          "base_uri": "https://localhost:8080/"
        },
        "outputId": "d56a86b3-53d7-4b3f-bff3-e683598b9e1f"
      },
      "source": [
        "df2['Qual o seu grau de parentesco com o dependente químico?'] = df2['Qual o seu grau de parentesco com o dependente químico?'].replace(\n",
        "    ['Tio', 'Tia'], 'Tio(a)', inplace=False)"
      ],
      "execution_count": null,
      "outputs": [
        {
          "output_type": "stream",
          "text": [
            "/usr/local/lib/python3.6/dist-packages/ipykernel_launcher.py:2: SettingWithCopyWarning: \n",
            "A value is trying to be set on a copy of a slice from a DataFrame.\n",
            "Try using .loc[row_indexer,col_indexer] = value instead\n",
            "\n",
            "See the caveats in the documentation: https://pandas.pydata.org/pandas-docs/stable/user_guide/indexing.html#returning-a-view-versus-a-copy\n",
            "  \n"
          ],
          "name": "stderr"
        }
      ]
    },
    {
      "cell_type": "code",
      "metadata": {
        "id": "F6HYM2fVqTSU",
        "colab": {
          "base_uri": "https://localhost:8080/"
        },
        "outputId": "f35d10ab-1ca6-4ae6-c390-3ff2f26659b8"
      },
      "source": [
        "df2['Qual o seu grau de parentesco com o dependente químico?'] = df2['Qual o seu grau de parentesco com o dependente químico?'].replace(\n",
        "    [' Cunhado' ], 'Cunhado', inplace=False)"
      ],
      "execution_count": null,
      "outputs": [
        {
          "output_type": "stream",
          "text": [
            "/usr/local/lib/python3.6/dist-packages/ipykernel_launcher.py:2: SettingWithCopyWarning: \n",
            "A value is trying to be set on a copy of a slice from a DataFrame.\n",
            "Try using .loc[row_indexer,col_indexer] = value instead\n",
            "\n",
            "See the caveats in the documentation: https://pandas.pydata.org/pandas-docs/stable/user_guide/indexing.html#returning-a-view-versus-a-copy\n",
            "  \n"
          ],
          "name": "stderr"
        }
      ]
    },
    {
      "cell_type": "code",
      "metadata": {
        "id": "IxpjkSe0zR1t",
        "colab": {
          "base_uri": "https://localhost:8080/"
        },
        "outputId": "61a76d01-b23c-42a9-8695-2696bf342261"
      },
      "source": [
        "# coluna após as mudanças\n",
        "df2['Qual o seu grau de parentesco com o dependente químico?'].value_counts()"
      ],
      "execution_count": null,
      "outputs": [
        {
          "output_type": "execute_result",
          "data": {
            "text/plain": [
              "Irmão(ã)    12\n",
              "Primo(a)     7\n",
              "Filho(a)     5\n",
              "Tio(a)       4\n",
              "Mãe/Pai      2\n",
              "Cônjuge      2\n",
              "Cunhado      1\n",
              "Sobrinha     1\n",
              "Amigo        1\n",
              "Avô          1\n",
              "Name: Qual o seu grau de parentesco com o dependente químico?, dtype: int64"
            ]
          },
          "metadata": {
            "tags": []
          },
          "execution_count": 16
        }
      ]
    },
    {
      "cell_type": "code",
      "metadata": {
        "id": "iz_3T-5Jq4gV",
        "colab": {
          "base_uri": "https://localhost:8080/"
        },
        "outputId": "3a755c3d-4140-4724-eb35-b17524e63a7e"
      },
      "source": [
        "# coluna: Em qual idade você descobriu que o seu familiar fazia uso de drogas? Digite somente a idade.\n",
        "df2['Em qual idade você descobriu que o seu familiar fazia uso de drogas? Digite somente a idade.'].value_counts()"
      ],
      "execution_count": null,
      "outputs": [
        {
          "output_type": "execute_result",
          "data": {
            "text/plain": [
              "13                      5\n",
              "18                      2\n",
              "23                      2\n",
              "15                      2\n",
              "14                      2\n",
              "40                      2\n",
              "20                      2\n",
              "16                      1\n",
              "45                      1\n",
              "Quando tinha 14 anos    1\n",
              " Aos 30                 1\n",
              "Aos 16 anos             1\n",
              "Suzano                  1\n",
              "26                      1\n",
              "Uns 15 anos             1\n",
              "17 anos                 1\n",
              "São Paulo               1\n",
              "12                      1\n",
              "28 anos                 1\n",
              "16 anos                 1\n",
              "18 anos                 1\n",
              "Guarulhos               1\n",
              "39                      1\n",
              "35                      1\n",
              "10                      1\n",
              "19                      1\n",
              "Name: Em qual idade você descobriu que o seu familiar fazia uso de drogas? Digite somente a idade., dtype: int64"
            ]
          },
          "metadata": {
            "tags": []
          },
          "execution_count": 17
        }
      ]
    },
    {
      "cell_type": "code",
      "metadata": {
        "id": "UI2yxyb3rdl3",
        "colab": {
          "base_uri": "https://localhost:8080/"
        },
        "outputId": "779b7820-1bf8-4e65-a92f-122e56c39ff0"
      },
      "source": [
        "df2['Em qual idade você descobriu que o seu familiar fazia uso de drogas? Digite somente a idade.'] = df2['Em qual idade você descobriu que o seu familiar fazia uso de drogas? Digite somente a idade.'].replace(\n",
        "    ['Quando tinha 14 anos' ], 14, inplace=False)"
      ],
      "execution_count": null,
      "outputs": [
        {
          "output_type": "stream",
          "text": [
            "/usr/local/lib/python3.6/dist-packages/ipykernel_launcher.py:2: SettingWithCopyWarning: \n",
            "A value is trying to be set on a copy of a slice from a DataFrame.\n",
            "Try using .loc[row_indexer,col_indexer] = value instead\n",
            "\n",
            "See the caveats in the documentation: https://pandas.pydata.org/pandas-docs/stable/user_guide/indexing.html#returning-a-view-versus-a-copy\n",
            "  \n"
          ],
          "name": "stderr"
        }
      ]
    },
    {
      "cell_type": "code",
      "metadata": {
        "id": "CBrn5AnTtVGw",
        "colab": {
          "base_uri": "https://localhost:8080/"
        },
        "outputId": "1c484392-c3ab-4011-f8cc-d77fb2a62a0c"
      },
      "source": [
        "df2['Em qual idade você descobriu que o seu familiar fazia uso de drogas? Digite somente a idade.'] = df2['Em qual idade você descobriu que o seu familiar fazia uso de drogas? Digite somente a idade.'].replace(\n",
        "    ['Aos 16 anos' ], 16, inplace=False)"
      ],
      "execution_count": null,
      "outputs": [
        {
          "output_type": "stream",
          "text": [
            "/usr/local/lib/python3.6/dist-packages/ipykernel_launcher.py:2: SettingWithCopyWarning: \n",
            "A value is trying to be set on a copy of a slice from a DataFrame.\n",
            "Try using .loc[row_indexer,col_indexer] = value instead\n",
            "\n",
            "See the caveats in the documentation: https://pandas.pydata.org/pandas-docs/stable/user_guide/indexing.html#returning-a-view-versus-a-copy\n",
            "  \n"
          ],
          "name": "stderr"
        }
      ]
    },
    {
      "cell_type": "code",
      "metadata": {
        "id": "kZ1nH-n1rYMF",
        "colab": {
          "base_uri": "https://localhost:8080/"
        },
        "outputId": "2481e9a9-5afc-41d4-e90e-bf0f74b0a9b2"
      },
      "source": [
        "df2['Em qual idade você descobriu que o seu familiar fazia uso de drogas? Digite somente a idade.'] = df2['Em qual idade você descobriu que o seu familiar fazia uso de drogas? Digite somente a idade.'].replace(\n",
        "    [' Aos 30' ], 30, inplace=False)"
      ],
      "execution_count": null,
      "outputs": [
        {
          "output_type": "stream",
          "text": [
            "/usr/local/lib/python3.6/dist-packages/ipykernel_launcher.py:2: SettingWithCopyWarning: \n",
            "A value is trying to be set on a copy of a slice from a DataFrame.\n",
            "Try using .loc[row_indexer,col_indexer] = value instead\n",
            "\n",
            "See the caveats in the documentation: https://pandas.pydata.org/pandas-docs/stable/user_guide/indexing.html#returning-a-view-versus-a-copy\n",
            "  \n"
          ],
          "name": "stderr"
        }
      ]
    },
    {
      "cell_type": "code",
      "metadata": {
        "id": "rW4zI4-ZtbSl",
        "colab": {
          "base_uri": "https://localhost:8080/"
        },
        "outputId": "5f2d834a-8fa6-44cb-e41e-e1d80ad9bd81"
      },
      "source": [
        "\n",
        "df2['Em qual idade você descobriu que o seu familiar fazia uso de drogas? Digite somente a idade.'] = df2['Em qual idade você descobriu que o seu familiar fazia uso de drogas? Digite somente a idade.'].replace(\n",
        "    ['17 anos '], 17, inplace=False)"
      ],
      "execution_count": null,
      "outputs": [
        {
          "output_type": "stream",
          "text": [
            "/usr/local/lib/python3.6/dist-packages/ipykernel_launcher.py:3: SettingWithCopyWarning: \n",
            "A value is trying to be set on a copy of a slice from a DataFrame.\n",
            "Try using .loc[row_indexer,col_indexer] = value instead\n",
            "\n",
            "See the caveats in the documentation: https://pandas.pydata.org/pandas-docs/stable/user_guide/indexing.html#returning-a-view-versus-a-copy\n",
            "  This is separate from the ipykernel package so we can avoid doing imports until\n"
          ],
          "name": "stderr"
        }
      ]
    },
    {
      "cell_type": "code",
      "metadata": {
        "id": "W0n3Y2IVtdlh",
        "colab": {
          "base_uri": "https://localhost:8080/"
        },
        "outputId": "1d38c513-074f-4657-c4fa-ca7adeac621f"
      },
      "source": [
        "df2['Em qual idade você descobriu que o seu familiar fazia uso de drogas? Digite somente a idade.'] = df2['Em qual idade você descobriu que o seu familiar fazia uso de drogas? Digite somente a idade.'].replace(\n",
        "    ['Uns 15 anos'], 15, inplace=False)"
      ],
      "execution_count": null,
      "outputs": [
        {
          "output_type": "stream",
          "text": [
            "/usr/local/lib/python3.6/dist-packages/ipykernel_launcher.py:2: SettingWithCopyWarning: \n",
            "A value is trying to be set on a copy of a slice from a DataFrame.\n",
            "Try using .loc[row_indexer,col_indexer] = value instead\n",
            "\n",
            "See the caveats in the documentation: https://pandas.pydata.org/pandas-docs/stable/user_guide/indexing.html#returning-a-view-versus-a-copy\n",
            "  \n"
          ],
          "name": "stderr"
        }
      ]
    },
    {
      "cell_type": "code",
      "metadata": {
        "id": "mtdQhU4ttfx9",
        "colab": {
          "base_uri": "https://localhost:8080/"
        },
        "outputId": "ba5b228d-e2aa-407e-9563-057b9043dc0e"
      },
      "source": [
        "df2['Em qual idade você descobriu que o seu familiar fazia uso de drogas? Digite somente a idade.'] = df2['Em qual idade você descobriu que o seu familiar fazia uso de drogas? Digite somente a idade.'].replace(\n",
        "    ['28 anos' ], 28, inplace=False)"
      ],
      "execution_count": null,
      "outputs": [
        {
          "output_type": "stream",
          "text": [
            "/usr/local/lib/python3.6/dist-packages/ipykernel_launcher.py:2: SettingWithCopyWarning: \n",
            "A value is trying to be set on a copy of a slice from a DataFrame.\n",
            "Try using .loc[row_indexer,col_indexer] = value instead\n",
            "\n",
            "See the caveats in the documentation: https://pandas.pydata.org/pandas-docs/stable/user_guide/indexing.html#returning-a-view-versus-a-copy\n",
            "  \n"
          ],
          "name": "stderr"
        }
      ]
    },
    {
      "cell_type": "code",
      "metadata": {
        "id": "v4B4_eRetimM",
        "colab": {
          "base_uri": "https://localhost:8080/"
        },
        "outputId": "e9969220-a890-4b75-9d8a-a6dddb01080a"
      },
      "source": [
        "df2['Em qual idade você descobriu que o seu familiar fazia uso de drogas? Digite somente a idade.'] = df2['Em qual idade você descobriu que o seu familiar fazia uso de drogas? Digite somente a idade.'].replace(\n",
        "    ['16 anos'], 16, inplace=False)"
      ],
      "execution_count": null,
      "outputs": [
        {
          "output_type": "stream",
          "text": [
            "/usr/local/lib/python3.6/dist-packages/ipykernel_launcher.py:2: SettingWithCopyWarning: \n",
            "A value is trying to be set on a copy of a slice from a DataFrame.\n",
            "Try using .loc[row_indexer,col_indexer] = value instead\n",
            "\n",
            "See the caveats in the documentation: https://pandas.pydata.org/pandas-docs/stable/user_guide/indexing.html#returning-a-view-versus-a-copy\n",
            "  \n"
          ],
          "name": "stderr"
        }
      ]
    },
    {
      "cell_type": "code",
      "metadata": {
        "id": "qGHlo2jQt4jl",
        "colab": {
          "base_uri": "https://localhost:8080/"
        },
        "outputId": "5d4c3699-6c29-414c-fb14-c082aecd81b0"
      },
      "source": [
        "df2['Em qual idade você descobriu que o seu familiar fazia uso de drogas? Digite somente a idade.'] = df2['Em qual idade você descobriu que o seu familiar fazia uso de drogas? Digite somente a idade.'].replace(\n",
        "    ['18 anos'], 18, inplace=False)"
      ],
      "execution_count": null,
      "outputs": [
        {
          "output_type": "stream",
          "text": [
            "/usr/local/lib/python3.6/dist-packages/ipykernel_launcher.py:2: SettingWithCopyWarning: \n",
            "A value is trying to be set on a copy of a slice from a DataFrame.\n",
            "Try using .loc[row_indexer,col_indexer] = value instead\n",
            "\n",
            "See the caveats in the documentation: https://pandas.pydata.org/pandas-docs/stable/user_guide/indexing.html#returning-a-view-versus-a-copy\n",
            "  \n"
          ],
          "name": "stderr"
        }
      ]
    },
    {
      "cell_type": "code",
      "metadata": {
        "id": "RViJAgUeuAZc",
        "colab": {
          "base_uri": "https://localhost:8080/"
        },
        "outputId": "60387e41-f16a-41f8-be65-2caf565ed5c9"
      },
      "source": [
        "df2['Em qual idade você descobriu que o seu familiar fazia uso de drogas? Digite somente a idade.'] = df2['Em qual idade você descobriu que o seu familiar fazia uso de drogas? Digite somente a idade.'].replace(\n",
        "    ['São Paulo ', 'Suzano', 'Guarulhos '], 0, inplace=False)"
      ],
      "execution_count": null,
      "outputs": [
        {
          "output_type": "stream",
          "text": [
            "/usr/local/lib/python3.6/dist-packages/ipykernel_launcher.py:2: SettingWithCopyWarning: \n",
            "A value is trying to be set on a copy of a slice from a DataFrame.\n",
            "Try using .loc[row_indexer,col_indexer] = value instead\n",
            "\n",
            "See the caveats in the documentation: https://pandas.pydata.org/pandas-docs/stable/user_guide/indexing.html#returning-a-view-versus-a-copy\n",
            "  \n"
          ],
          "name": "stderr"
        }
      ]
    },
    {
      "cell_type": "code",
      "metadata": {
        "id": "cdiJ3Q7SzaGF",
        "colab": {
          "base_uri": "https://localhost:8080/"
        },
        "outputId": "3e42ff13-5d43-4e02-ebfb-a1e7f72ed6f7"
      },
      "source": [
        "# após as mudanças\n",
        "df2['Em qual idade você descobriu que o seu familiar fazia uso de drogas? Digite somente a idade.'].value_counts()"
      ],
      "execution_count": null,
      "outputs": [
        {
          "output_type": "execute_result",
          "data": {
            "text/plain": [
              "13    5\n",
              "0     3\n",
              "18    2\n",
              "23    2\n",
              "14    2\n",
              "16    2\n",
              "15    2\n",
              "40    2\n",
              "20    2\n",
              "39    1\n",
              "35    1\n",
              "12    1\n",
              "30    1\n",
              "15    1\n",
              "45    1\n",
              "19    1\n",
              "26    1\n",
              "14    1\n",
              "10    1\n",
              "17    1\n",
              "18    1\n",
              "16    1\n",
              "28    1\n",
              "Name: Em qual idade você descobriu que o seu familiar fazia uso de drogas? Digite somente a idade., dtype: int64"
            ]
          },
          "metadata": {
            "tags": []
          },
          "execution_count": 27
        }
      ]
    },
    {
      "cell_type": "code",
      "metadata": {
        "id": "cZ_zAJdvv4XI",
        "colab": {
          "base_uri": "https://localhost:8080/"
        },
        "outputId": "0d7f4739-44c0-4ad8-e0bd-d19be6f2877d"
      },
      "source": [
        "# coluna : Na sua opinião, quais fatores contribuíram para seu familiar começar o uso de drogas? (escolha quantas opções quiser)\n",
        "df2['Na sua opinião, quais fatores contribuíram para seu familiar começar o uso de drogas? (escolha quantas opções quiser)'].value_counts()"
      ],
      "execution_count": null,
      "outputs": [
        {
          "output_type": "execute_result",
          "data": {
            "text/plain": [
              "Amigos                                                                       9\n",
              "Decepção amorosa                                                             5\n",
              "Decepção amorosa;Depressão / Ansiedade;Baixa auto-estima                     2\n",
              "Amigos;Baixa auto-estima                                                     2\n",
              "Baixa auto-estima                                                            2\n",
              "Depressão / Ansiedade                                                        2\n",
              "Conflitos com os pais;Amigos;Depressão / Ansiedade                           2\n",
              "Baixa auto-estima;Problemas de moral ou caráter                              1\n",
              "Mal companhia                                                                1\n",
              "Decepção amorosa;Falta de emprego;Depressão / Ansiedade;Baixa auto-estima    1\n",
              "Conflitos com os pais;Depressão / Ansiedade                                  1\n",
              "Decepção amorosa;Amigos;Baixa auto-estima                                    1\n",
              "Começou a fazer o uso de drogas depois que minha mãe adoeceu.                1\n",
              "Falta de emprego                                                             1\n",
              "Amigos;Falta de emprego;Depressão / Ansiedade                                1\n",
              "Decepção amorosa;Depressão / Ansiedade                                       1\n",
              "Decepção amorosa;Conflitos com os pais;Depressão / Ansiedade                 1\n",
              "Influencia de familiares                                                     1\n",
              "Conflitos com os pais;Amigos;Baixa auto-estima                               1\n",
              "Name: Na sua opinião, quais fatores contribuíram para seu familiar começar o uso de drogas? (escolha quantas opções quiser), dtype: int64"
            ]
          },
          "metadata": {
            "tags": []
          },
          "execution_count": 28
        }
      ]
    },
    {
      "cell_type": "code",
      "metadata": {
        "id": "uQY6KHdjwMlV",
        "colab": {
          "base_uri": "https://localhost:8080/"
        },
        "outputId": "7d2cedb3-a9da-4b9e-8330-b468125481c9"
      },
      "source": [
        "df2['Na sua opinião, quais fatores contribuíram para seu familiar começar o uso de drogas? (escolha quantas opções quiser)'] = df2['Na sua opinião, quais fatores contribuíram para seu familiar começar o uso de drogas? (escolha quantas opções quiser)'].replace(\n",
        "    ['Mal companhia'], 'Amigos', inplace=False)"
      ],
      "execution_count": null,
      "outputs": [
        {
          "output_type": "stream",
          "text": [
            "/usr/local/lib/python3.6/dist-packages/ipykernel_launcher.py:2: SettingWithCopyWarning: \n",
            "A value is trying to be set on a copy of a slice from a DataFrame.\n",
            "Try using .loc[row_indexer,col_indexer] = value instead\n",
            "\n",
            "See the caveats in the documentation: https://pandas.pydata.org/pandas-docs/stable/user_guide/indexing.html#returning-a-view-versus-a-copy\n",
            "  \n"
          ],
          "name": "stderr"
        }
      ]
    },
    {
      "cell_type": "code",
      "metadata": {
        "id": "-IdUVj0Mzkxc",
        "colab": {
          "base_uri": "https://localhost:8080/"
        },
        "outputId": "df2be1ab-69a8-4d37-c014-1e3e618e1643"
      },
      "source": [
        "df2['Na sua opinião, quais fatores contribuíram para seu familiar começar o uso de drogas? (escolha quantas opções quiser)'].value_counts()"
      ],
      "execution_count": null,
      "outputs": [
        {
          "output_type": "execute_result",
          "data": {
            "text/plain": [
              "Amigos                                                                       10\n",
              "Decepção amorosa                                                              5\n",
              "Decepção amorosa;Depressão / Ansiedade;Baixa auto-estima                      2\n",
              "Amigos;Baixa auto-estima                                                      2\n",
              "Baixa auto-estima                                                             2\n",
              "Depressão / Ansiedade                                                         2\n",
              "Conflitos com os pais;Amigos;Depressão / Ansiedade                            2\n",
              "Baixa auto-estima;Problemas de moral ou caráter                               1\n",
              "Amigos;Falta de emprego;Depressão / Ansiedade                                 1\n",
              "Decepção amorosa;Falta de emprego;Depressão / Ansiedade;Baixa auto-estima     1\n",
              "Conflitos com os pais;Depressão / Ansiedade                                   1\n",
              "Decepção amorosa;Amigos;Baixa auto-estima                                     1\n",
              "Começou a fazer o uso de drogas depois que minha mãe adoeceu.                 1\n",
              "Falta de emprego                                                              1\n",
              "Decepção amorosa;Depressão / Ansiedade                                        1\n",
              "Decepção amorosa;Conflitos com os pais;Depressão / Ansiedade                  1\n",
              "Influencia de familiares                                                      1\n",
              "Conflitos com os pais;Amigos;Baixa auto-estima                                1\n",
              "Name: Na sua opinião, quais fatores contribuíram para seu familiar começar o uso de drogas? (escolha quantas opções quiser), dtype: int64"
            ]
          },
          "metadata": {
            "tags": []
          },
          "execution_count": 30
        }
      ]
    },
    {
      "cell_type": "code",
      "metadata": {
        "id": "ZzxRMF_wz6FE",
        "colab": {
          "base_uri": "https://localhost:8080/"
        },
        "outputId": "73b4b2d5-059f-4b1e-b416-5e22b72c7487"
      },
      "source": [
        "df2.dtypes"
      ],
      "execution_count": null,
      "outputs": [
        {
          "output_type": "execute_result",
          "data": {
            "text/plain": [
              "Você possui familiares com dependência química?                                                                                                                object\n",
              "Qual o seu grau de parentesco com o dependente químico?                                                                                                        object\n",
              "Atualmente você é responsável pelo dependente químico?                                                                                                         object\n",
              "Qual o gênero do dependente químico?                                                                                                                           object\n",
              "Qual a cor do dependente químico?                                                                                                                              object\n",
              "Qual a idade do dependente químico?                                                                                                                            object\n",
              "Qual é a renda familiar?                                                                                                                                       object\n",
              "Em qual idade você descobriu que o seu familiar fazia uso de drogas? Digite somente a idade.                                                                   object\n",
              "Há outros casos  de dependência química anteriores a esse na família?                                                                                          object\n",
              "Seu familiar está empregado?                                                                                                                                   object\n",
              "Se não estiver empregado, perdeu ou não conseguiu arrumar emprego por conta da dependência? (se estiver empregado não responder)                               object\n",
              "Se estiver desempregado, há quanto tempo está nessa situação, sem emprego? ( se estiver empregado não responder)                                               object\n",
              "Na sua opinião, quais fatores contribuíram para seu familiar começar o uso de drogas? (escolha quantas opções quiser)                                          object\n",
              "Você tem algum auxilio do poder público para o tratamento do seu familiar? (atendimento do serviço social, auxilio da previdência ou algum outro beneficio)    object\n",
              "Você acredita na recuperação do seu familiar?                                                                                                                  object\n",
              "Seu familiar já passou por algum tratamento para a dependência química?                                                                                        object\n",
              "Seu familiar se recuperou e não voltou à dependência?                                                                                                          object\n",
              "dtype: object"
            ]
          },
          "metadata": {
            "tags": []
          },
          "execution_count": 31
        }
      ]
    },
    {
      "cell_type": "code",
      "metadata": {
        "id": "g9pPZc7hz8XO"
      },
      "source": [
        "# Vamos tirar essa coluna pois ela não será usada  \n",
        "df3 = df2.drop(columns=['Você possui familiares com dependência química?'])"
      ],
      "execution_count": null,
      "outputs": []
    },
    {
      "cell_type": "code",
      "metadata": {
        "id": "MJPsj0Uqzm6s",
        "colab": {
          "base_uri": "https://localhost:8080/",
          "height": 1000
        },
        "outputId": "93892d50-73b5-4c9c-a762-9c18dec061d4"
      },
      "source": [
        "# vamos ver como ficou\n",
        "df3"
      ],
      "execution_count": null,
      "outputs": [
        {
          "output_type": "execute_result",
          "data": {
            "text/html": [
              "<div>\n",
              "<style scoped>\n",
              "    .dataframe tbody tr th:only-of-type {\n",
              "        vertical-align: middle;\n",
              "    }\n",
              "\n",
              "    .dataframe tbody tr th {\n",
              "        vertical-align: top;\n",
              "    }\n",
              "\n",
              "    .dataframe thead th {\n",
              "        text-align: right;\n",
              "    }\n",
              "</style>\n",
              "<table border=\"1\" class=\"dataframe\">\n",
              "  <thead>\n",
              "    <tr style=\"text-align: right;\">\n",
              "      <th></th>\n",
              "      <th>Qual o seu grau de parentesco com o dependente químico?</th>\n",
              "      <th>Atualmente você é responsável pelo dependente químico?</th>\n",
              "      <th>Qual o gênero do dependente químico?</th>\n",
              "      <th>Qual a cor do dependente químico?</th>\n",
              "      <th>Qual a idade do dependente químico?</th>\n",
              "      <th>Qual é a renda familiar?</th>\n",
              "      <th>Em qual idade você descobriu que o seu familiar fazia uso de drogas? Digite somente a idade.</th>\n",
              "      <th>Há outros casos  de dependência química anteriores a esse na família?</th>\n",
              "      <th>Seu familiar está empregado?</th>\n",
              "      <th>Se não estiver empregado, perdeu ou não conseguiu arrumar emprego por conta da dependência? (se estiver empregado não responder)</th>\n",
              "      <th>Se estiver desempregado, há quanto tempo está nessa situação, sem emprego? ( se estiver empregado não responder)</th>\n",
              "      <th>Na sua opinião, quais fatores contribuíram para seu familiar começar o uso de drogas? (escolha quantas opções quiser)</th>\n",
              "      <th>Você tem algum auxilio do poder público para o tratamento do seu familiar? (atendimento do serviço social, auxilio da previdência ou algum outro beneficio)</th>\n",
              "      <th>Você acredita na recuperação do seu familiar?</th>\n",
              "      <th>Seu familiar já passou por algum tratamento para a dependência química?</th>\n",
              "      <th>Seu familiar se recuperou e não voltou à dependência?</th>\n",
              "    </tr>\n",
              "  </thead>\n",
              "  <tbody>\n",
              "    <tr>\n",
              "      <th>1</th>\n",
              "      <td>Filho(a)</td>\n",
              "      <td>Sim</td>\n",
              "      <td>Masculino</td>\n",
              "      <td>Parda</td>\n",
              "      <td>26 a 33 anos</td>\n",
              "      <td>Até 1 salário mínimo</td>\n",
              "      <td>17</td>\n",
              "      <td>Não</td>\n",
              "      <td>Não</td>\n",
              "      <td>Não</td>\n",
              "      <td>Acima de 2 anos</td>\n",
              "      <td>Decepção amorosa;Depressão / Ansiedade</td>\n",
              "      <td>Não</td>\n",
              "      <td>Sim</td>\n",
              "      <td>Sim</td>\n",
              "      <td>Sim</td>\n",
              "    </tr>\n",
              "    <tr>\n",
              "      <th>3</th>\n",
              "      <td>Irmão(ã)</td>\n",
              "      <td>Não</td>\n",
              "      <td>Masculino</td>\n",
              "      <td>Branca</td>\n",
              "      <td>50 anos ou mais</td>\n",
              "      <td>Até 1 salário mínimo</td>\n",
              "      <td>40</td>\n",
              "      <td>Não</td>\n",
              "      <td>Sim</td>\n",
              "      <td>NaN</td>\n",
              "      <td>Menos de 1 ano</td>\n",
              "      <td>Decepção amorosa</td>\n",
              "      <td>Não</td>\n",
              "      <td>Sim</td>\n",
              "      <td>Não</td>\n",
              "      <td>Não</td>\n",
              "    </tr>\n",
              "    <tr>\n",
              "      <th>4</th>\n",
              "      <td>Tio(a)</td>\n",
              "      <td>Não</td>\n",
              "      <td>Feminino</td>\n",
              "      <td>Preta</td>\n",
              "      <td>42 a 49 anos</td>\n",
              "      <td>Até 1 salário mínimo</td>\n",
              "      <td>15</td>\n",
              "      <td>Sim</td>\n",
              "      <td>Não</td>\n",
              "      <td>Sim</td>\n",
              "      <td>Acima de 2 anos</td>\n",
              "      <td>Amigos</td>\n",
              "      <td>Não</td>\n",
              "      <td>Sim</td>\n",
              "      <td>Não</td>\n",
              "      <td>Não</td>\n",
              "    </tr>\n",
              "    <tr>\n",
              "      <th>7</th>\n",
              "      <td>Primo(a)</td>\n",
              "      <td>Não</td>\n",
              "      <td>Masculino</td>\n",
              "      <td>Branca</td>\n",
              "      <td>26 a 33 anos</td>\n",
              "      <td>De 1 a 3 salários mínimos</td>\n",
              "      <td>14</td>\n",
              "      <td>Sim</td>\n",
              "      <td>Sim</td>\n",
              "      <td>Sim</td>\n",
              "      <td>De 1 a 2 anos</td>\n",
              "      <td>Amigos</td>\n",
              "      <td>Não</td>\n",
              "      <td>Sim</td>\n",
              "      <td>Sim</td>\n",
              "      <td>Sim</td>\n",
              "    </tr>\n",
              "    <tr>\n",
              "      <th>8</th>\n",
              "      <td>Irmão(ã)</td>\n",
              "      <td>Sim</td>\n",
              "      <td>Masculino</td>\n",
              "      <td>Parda</td>\n",
              "      <td>42 a 49 anos</td>\n",
              "      <td>De 1 a 3 salários mínimos</td>\n",
              "      <td>18</td>\n",
              "      <td>Sim</td>\n",
              "      <td>Não</td>\n",
              "      <td>Sim</td>\n",
              "      <td>De 1 a 2 anos</td>\n",
              "      <td>Decepção amorosa</td>\n",
              "      <td>Não</td>\n",
              "      <td>Sim</td>\n",
              "      <td>Não</td>\n",
              "      <td>Não</td>\n",
              "    </tr>\n",
              "    <tr>\n",
              "      <th>9</th>\n",
              "      <td>Filho(a)</td>\n",
              "      <td>Sim</td>\n",
              "      <td>Masculino</td>\n",
              "      <td>Preta</td>\n",
              "      <td>26 a 33 anos</td>\n",
              "      <td>De 1 a 3 salários mínimos</td>\n",
              "      <td>18</td>\n",
              "      <td>Sim</td>\n",
              "      <td>Não</td>\n",
              "      <td>Sim</td>\n",
              "      <td>Menos de 1 ano</td>\n",
              "      <td>Decepção amorosa;Depressão / Ansiedade;Baixa a...</td>\n",
              "      <td>Não</td>\n",
              "      <td>Sim</td>\n",
              "      <td>Sim</td>\n",
              "      <td>Não</td>\n",
              "    </tr>\n",
              "    <tr>\n",
              "      <th>10</th>\n",
              "      <td>Primo(a)</td>\n",
              "      <td>Não</td>\n",
              "      <td>Masculino</td>\n",
              "      <td>Parda</td>\n",
              "      <td>26 a 33 anos</td>\n",
              "      <td>De 1 a 3 salários mínimos</td>\n",
              "      <td>26</td>\n",
              "      <td>Não</td>\n",
              "      <td>Sim</td>\n",
              "      <td>NaN</td>\n",
              "      <td>NaN</td>\n",
              "      <td>Amigos</td>\n",
              "      <td>Não</td>\n",
              "      <td>Sim</td>\n",
              "      <td>Sim</td>\n",
              "      <td>Não</td>\n",
              "    </tr>\n",
              "    <tr>\n",
              "      <th>11</th>\n",
              "      <td>Cônjuge</td>\n",
              "      <td>Sim</td>\n",
              "      <td>Masculino</td>\n",
              "      <td>Preta</td>\n",
              "      <td>18 a 25 anos</td>\n",
              "      <td>Até 1 salário mínimo</td>\n",
              "      <td>23</td>\n",
              "      <td>Sim</td>\n",
              "      <td>Não</td>\n",
              "      <td>Sim</td>\n",
              "      <td>Menos de 1 ano</td>\n",
              "      <td>Conflitos com os pais;Depressão / Ansiedade</td>\n",
              "      <td>Sim</td>\n",
              "      <td>Sim</td>\n",
              "      <td>Não</td>\n",
              "      <td>Não</td>\n",
              "    </tr>\n",
              "    <tr>\n",
              "      <th>12</th>\n",
              "      <td>Irmão(ã)</td>\n",
              "      <td>Não</td>\n",
              "      <td>Masculino</td>\n",
              "      <td>Parda</td>\n",
              "      <td>34 a 41 anos</td>\n",
              "      <td>Até 1 salário mínimo</td>\n",
              "      <td>15</td>\n",
              "      <td>Sim</td>\n",
              "      <td>Não</td>\n",
              "      <td>Sim</td>\n",
              "      <td>Acima de 2 anos</td>\n",
              "      <td>Conflitos com os pais;Amigos;Depressão / Ansie...</td>\n",
              "      <td>Não</td>\n",
              "      <td>Sim</td>\n",
              "      <td>Sim</td>\n",
              "      <td>Não</td>\n",
              "    </tr>\n",
              "    <tr>\n",
              "      <th>13</th>\n",
              "      <td>Amigo</td>\n",
              "      <td>Não</td>\n",
              "      <td>Masculino</td>\n",
              "      <td>Preta</td>\n",
              "      <td>18 a 25 anos</td>\n",
              "      <td>Até 1 salário mínimo</td>\n",
              "      <td>15</td>\n",
              "      <td>Não</td>\n",
              "      <td>Não</td>\n",
              "      <td>NaN</td>\n",
              "      <td>NaN</td>\n",
              "      <td>Amigos</td>\n",
              "      <td>Sim</td>\n",
              "      <td>Sim</td>\n",
              "      <td>Não</td>\n",
              "      <td>Sim</td>\n",
              "    </tr>\n",
              "    <tr>\n",
              "      <th>14</th>\n",
              "      <td>Irmão(ã)</td>\n",
              "      <td>Sim</td>\n",
              "      <td>Masculino</td>\n",
              "      <td>Branca</td>\n",
              "      <td>42 a 49 anos</td>\n",
              "      <td>De 1 a 3 salários mínimos</td>\n",
              "      <td>14</td>\n",
              "      <td>Não</td>\n",
              "      <td>Não</td>\n",
              "      <td>Não</td>\n",
              "      <td>De 1 a 2 anos</td>\n",
              "      <td>Decepção amorosa;Depressão / Ansiedade;Baixa a...</td>\n",
              "      <td>Não</td>\n",
              "      <td>Sim</td>\n",
              "      <td>Não</td>\n",
              "      <td>Sim</td>\n",
              "    </tr>\n",
              "    <tr>\n",
              "      <th>16</th>\n",
              "      <td>Cônjuge</td>\n",
              "      <td>Não</td>\n",
              "      <td>Masculino</td>\n",
              "      <td>Branca</td>\n",
              "      <td>26 a 33 anos</td>\n",
              "      <td>Até 1 salário mínimo</td>\n",
              "      <td>16</td>\n",
              "      <td>Sim</td>\n",
              "      <td>Não</td>\n",
              "      <td>Não</td>\n",
              "      <td>Menos de 1 ano</td>\n",
              "      <td>Decepção amorosa;Conflitos com os pais;Depress...</td>\n",
              "      <td>Não</td>\n",
              "      <td>Sim</td>\n",
              "      <td>Sim</td>\n",
              "      <td>Não</td>\n",
              "    </tr>\n",
              "    <tr>\n",
              "      <th>17</th>\n",
              "      <td>Irmão(ã)</td>\n",
              "      <td>Não</td>\n",
              "      <td>Masculino</td>\n",
              "      <td>Branca</td>\n",
              "      <td>26 a 33 anos</td>\n",
              "      <td>Até 1 salário mínimo</td>\n",
              "      <td>13</td>\n",
              "      <td>Sim</td>\n",
              "      <td>Sim</td>\n",
              "      <td>NaN</td>\n",
              "      <td>Menos de 1 ano</td>\n",
              "      <td>Amigos</td>\n",
              "      <td>Sim</td>\n",
              "      <td>Sim</td>\n",
              "      <td>Sim</td>\n",
              "      <td>Sim</td>\n",
              "    </tr>\n",
              "    <tr>\n",
              "      <th>19</th>\n",
              "      <td>Primo(a)</td>\n",
              "      <td>Não</td>\n",
              "      <td>Feminino</td>\n",
              "      <td>Parda</td>\n",
              "      <td>18 a 25 anos</td>\n",
              "      <td>De 1 a 3 salários mínimos</td>\n",
              "      <td>14</td>\n",
              "      <td>Não</td>\n",
              "      <td>Não</td>\n",
              "      <td>Sim</td>\n",
              "      <td>Acima de 2 anos</td>\n",
              "      <td>Amigos</td>\n",
              "      <td>Não</td>\n",
              "      <td>Não</td>\n",
              "      <td>Sim</td>\n",
              "      <td>Não</td>\n",
              "    </tr>\n",
              "    <tr>\n",
              "      <th>20</th>\n",
              "      <td>Primo(a)</td>\n",
              "      <td>Não</td>\n",
              "      <td>Masculino</td>\n",
              "      <td>Preta</td>\n",
              "      <td>50 anos ou mais</td>\n",
              "      <td>De 1 a 3 salários mínimos</td>\n",
              "      <td>20</td>\n",
              "      <td>Sim</td>\n",
              "      <td>Não</td>\n",
              "      <td>Sim</td>\n",
              "      <td>De 1 a 2 anos</td>\n",
              "      <td>Baixa auto-estima</td>\n",
              "      <td>Não</td>\n",
              "      <td>Sim</td>\n",
              "      <td>Não</td>\n",
              "      <td>Não</td>\n",
              "    </tr>\n",
              "    <tr>\n",
              "      <th>21</th>\n",
              "      <td>Irmão(ã)</td>\n",
              "      <td>Não</td>\n",
              "      <td>Masculino</td>\n",
              "      <td>Branca</td>\n",
              "      <td>26 a 33 anos</td>\n",
              "      <td>De 1 a 3 salários mínimos</td>\n",
              "      <td>12</td>\n",
              "      <td>Sim</td>\n",
              "      <td>Não</td>\n",
              "      <td>Sim</td>\n",
              "      <td>Menos de 1 ano</td>\n",
              "      <td>Decepção amorosa;Amigos;Baixa auto-estima</td>\n",
              "      <td>Não</td>\n",
              "      <td>Sim</td>\n",
              "      <td>Sim</td>\n",
              "      <td>Não</td>\n",
              "    </tr>\n",
              "    <tr>\n",
              "      <th>22</th>\n",
              "      <td>Sobrinha</td>\n",
              "      <td>Não</td>\n",
              "      <td>Feminino</td>\n",
              "      <td>Branca</td>\n",
              "      <td>18 a 25 anos</td>\n",
              "      <td>De 1 a 3 salários mínimos</td>\n",
              "      <td>16</td>\n",
              "      <td>Sim</td>\n",
              "      <td>Não</td>\n",
              "      <td>NaN</td>\n",
              "      <td>NaN</td>\n",
              "      <td>Influencia de familiares</td>\n",
              "      <td>Não</td>\n",
              "      <td>Sim</td>\n",
              "      <td>Não</td>\n",
              "      <td>Não</td>\n",
              "    </tr>\n",
              "    <tr>\n",
              "      <th>23</th>\n",
              "      <td>Tio(a)</td>\n",
              "      <td>Não</td>\n",
              "      <td>Feminino</td>\n",
              "      <td>Parda</td>\n",
              "      <td>42 a 49 anos</td>\n",
              "      <td>Até 1 salário mínimo</td>\n",
              "      <td>16</td>\n",
              "      <td>Sim</td>\n",
              "      <td>Não</td>\n",
              "      <td>Sim</td>\n",
              "      <td>Acima de 2 anos</td>\n",
              "      <td>Amigos</td>\n",
              "      <td>Não</td>\n",
              "      <td>Sim</td>\n",
              "      <td>Sim</td>\n",
              "      <td>Não</td>\n",
              "    </tr>\n",
              "    <tr>\n",
              "      <th>24</th>\n",
              "      <td>Mãe/Pai</td>\n",
              "      <td>Sim</td>\n",
              "      <td>Masculino</td>\n",
              "      <td>Parda</td>\n",
              "      <td>42 a 49 anos</td>\n",
              "      <td>De 1 a 3 salários mínimos</td>\n",
              "      <td>0</td>\n",
              "      <td>Não</td>\n",
              "      <td>Não</td>\n",
              "      <td>Sim</td>\n",
              "      <td>De 1 a 2 anos</td>\n",
              "      <td>Decepção amorosa;Falta de emprego;Depressão / ...</td>\n",
              "      <td>Não</td>\n",
              "      <td>Sim</td>\n",
              "      <td>Sim</td>\n",
              "      <td>Sim</td>\n",
              "    </tr>\n",
              "    <tr>\n",
              "      <th>26</th>\n",
              "      <td>Irmão(ã)</td>\n",
              "      <td>Sim</td>\n",
              "      <td>Masculino</td>\n",
              "      <td>Parda</td>\n",
              "      <td>42 a 49 anos</td>\n",
              "      <td>Até 1 salário mínimo</td>\n",
              "      <td>39</td>\n",
              "      <td>Não</td>\n",
              "      <td>Não</td>\n",
              "      <td>Não</td>\n",
              "      <td>Menos de 1 ano</td>\n",
              "      <td>Depressão / Ansiedade</td>\n",
              "      <td>Não</td>\n",
              "      <td>Sim</td>\n",
              "      <td>Sim</td>\n",
              "      <td>Não</td>\n",
              "    </tr>\n",
              "    <tr>\n",
              "      <th>27</th>\n",
              "      <td>Irmão(ã)</td>\n",
              "      <td>Sim</td>\n",
              "      <td>Masculino</td>\n",
              "      <td>Preta</td>\n",
              "      <td>26 a 33 anos</td>\n",
              "      <td>De 1 a 3 salários mínimos</td>\n",
              "      <td>19</td>\n",
              "      <td>Não</td>\n",
              "      <td>Sim</td>\n",
              "      <td>Sim</td>\n",
              "      <td>Acima de 2 anos</td>\n",
              "      <td>Começou a fazer o uso de drogas depois que min...</td>\n",
              "      <td>Não</td>\n",
              "      <td>Sim</td>\n",
              "      <td>Sim</td>\n",
              "      <td>Não</td>\n",
              "    </tr>\n",
              "    <tr>\n",
              "      <th>28</th>\n",
              "      <td>Irmão(ã)</td>\n",
              "      <td>Sim</td>\n",
              "      <td>Masculino</td>\n",
              "      <td>Parda</td>\n",
              "      <td>50 anos ou mais</td>\n",
              "      <td>De 1 a 3 salários mínimos</td>\n",
              "      <td>40</td>\n",
              "      <td>Não</td>\n",
              "      <td>Não</td>\n",
              "      <td>Sim</td>\n",
              "      <td>De 1 a 2 anos</td>\n",
              "      <td>Baixa auto-estima</td>\n",
              "      <td>Não</td>\n",
              "      <td>Sim</td>\n",
              "      <td>Sim</td>\n",
              "      <td>Não</td>\n",
              "    </tr>\n",
              "    <tr>\n",
              "      <th>29</th>\n",
              "      <td>Avô</td>\n",
              "      <td>Não</td>\n",
              "      <td>Masculino</td>\n",
              "      <td>Branca</td>\n",
              "      <td>50 anos ou mais</td>\n",
              "      <td>Até 1 salário mínimo</td>\n",
              "      <td>13</td>\n",
              "      <td>Sim</td>\n",
              "      <td>Não</td>\n",
              "      <td>Não</td>\n",
              "      <td>Acima de 2 anos</td>\n",
              "      <td>Amigos</td>\n",
              "      <td>Não</td>\n",
              "      <td>Sim</td>\n",
              "      <td>Não</td>\n",
              "      <td>Sim</td>\n",
              "    </tr>\n",
              "    <tr>\n",
              "      <th>30</th>\n",
              "      <td>Primo(a)</td>\n",
              "      <td>Não</td>\n",
              "      <td>Masculino</td>\n",
              "      <td>Preta</td>\n",
              "      <td>26 a 33 anos</td>\n",
              "      <td>Até 1 salário mínimo</td>\n",
              "      <td>18</td>\n",
              "      <td>Sim</td>\n",
              "      <td>Não</td>\n",
              "      <td>Sim</td>\n",
              "      <td>De 1 a 2 anos</td>\n",
              "      <td>Conflitos com os pais;Amigos;Depressão / Ansie...</td>\n",
              "      <td>Não</td>\n",
              "      <td>Sim</td>\n",
              "      <td>Sim</td>\n",
              "      <td>Não</td>\n",
              "    </tr>\n",
              "    <tr>\n",
              "      <th>34</th>\n",
              "      <td>Tio(a)</td>\n",
              "      <td>Não</td>\n",
              "      <td>Masculino</td>\n",
              "      <td>Branca</td>\n",
              "      <td>50 anos ou mais</td>\n",
              "      <td>Até 1 salário mínimo</td>\n",
              "      <td>35</td>\n",
              "      <td>Sim</td>\n",
              "      <td>Não</td>\n",
              "      <td>Não</td>\n",
              "      <td>Acima de 2 anos</td>\n",
              "      <td>Decepção amorosa</td>\n",
              "      <td>Não</td>\n",
              "      <td>Sim</td>\n",
              "      <td>Não</td>\n",
              "      <td>Não</td>\n",
              "    </tr>\n",
              "    <tr>\n",
              "      <th>35</th>\n",
              "      <td>Irmão(ã)</td>\n",
              "      <td>Sim</td>\n",
              "      <td>Masculino</td>\n",
              "      <td>Branca</td>\n",
              "      <td>26 a 33 anos</td>\n",
              "      <td>De 1 a 3 salários mínimos</td>\n",
              "      <td>13</td>\n",
              "      <td>Sim</td>\n",
              "      <td>Sim</td>\n",
              "      <td>Sim</td>\n",
              "      <td>De 1 a 2 anos</td>\n",
              "      <td>Decepção amorosa</td>\n",
              "      <td>Sim</td>\n",
              "      <td>Sim</td>\n",
              "      <td>Sim</td>\n",
              "      <td>Sim</td>\n",
              "    </tr>\n",
              "    <tr>\n",
              "      <th>37</th>\n",
              "      <td>Tio(a)</td>\n",
              "      <td>Não</td>\n",
              "      <td>Masculino</td>\n",
              "      <td>Preta</td>\n",
              "      <td>42 a 49 anos</td>\n",
              "      <td>De 1 a 3 salários mínimos</td>\n",
              "      <td>20</td>\n",
              "      <td>Não</td>\n",
              "      <td>Sim</td>\n",
              "      <td>Não</td>\n",
              "      <td>Menos de 1 ano</td>\n",
              "      <td>Amigos;Falta de emprego;Depressão / Ansiedade</td>\n",
              "      <td>Não</td>\n",
              "      <td>Sim</td>\n",
              "      <td>Não</td>\n",
              "      <td>Não</td>\n",
              "    </tr>\n",
              "    <tr>\n",
              "      <th>38</th>\n",
              "      <td>Cunhado</td>\n",
              "      <td>Não</td>\n",
              "      <td>Masculino</td>\n",
              "      <td>Preta</td>\n",
              "      <td>42 a 49 anos</td>\n",
              "      <td>De 1 a 3 salários mínimos</td>\n",
              "      <td>30</td>\n",
              "      <td>Não</td>\n",
              "      <td>Não</td>\n",
              "      <td>Sim</td>\n",
              "      <td>Acima de 2 anos</td>\n",
              "      <td>Decepção amorosa</td>\n",
              "      <td>Não</td>\n",
              "      <td>Sim</td>\n",
              "      <td>Sim</td>\n",
              "      <td>Não</td>\n",
              "    </tr>\n",
              "    <tr>\n",
              "      <th>40</th>\n",
              "      <td>Irmão(ã)</td>\n",
              "      <td>Não</td>\n",
              "      <td>Masculino</td>\n",
              "      <td>Parda</td>\n",
              "      <td>34 a 41 anos</td>\n",
              "      <td>De 1 a 3 salários mínimos</td>\n",
              "      <td>28</td>\n",
              "      <td>Sim</td>\n",
              "      <td>Não</td>\n",
              "      <td>Sim</td>\n",
              "      <td>De 1 a 2 anos</td>\n",
              "      <td>Falta de emprego</td>\n",
              "      <td>Não</td>\n",
              "      <td>Sim</td>\n",
              "      <td>Sim</td>\n",
              "      <td>Sim</td>\n",
              "    </tr>\n",
              "    <tr>\n",
              "      <th>41</th>\n",
              "      <td>Mãe/Pai</td>\n",
              "      <td>Não</td>\n",
              "      <td>Masculino</td>\n",
              "      <td>Branca</td>\n",
              "      <td>42 a 49 anos</td>\n",
              "      <td>Até 1 salário mínimo</td>\n",
              "      <td>10</td>\n",
              "      <td>Sim</td>\n",
              "      <td>Sim</td>\n",
              "      <td>NaN</td>\n",
              "      <td>NaN</td>\n",
              "      <td>Amigos;Baixa auto-estima</td>\n",
              "      <td>Não</td>\n",
              "      <td>Sim</td>\n",
              "      <td>Sim</td>\n",
              "      <td>Sim</td>\n",
              "    </tr>\n",
              "    <tr>\n",
              "      <th>43</th>\n",
              "      <td>Primo(a)</td>\n",
              "      <td>Não</td>\n",
              "      <td>Outros</td>\n",
              "      <td>Parda</td>\n",
              "      <td>18 a 25 anos</td>\n",
              "      <td>De 1 a 3 salários mínimos</td>\n",
              "      <td>0</td>\n",
              "      <td>Sim</td>\n",
              "      <td>Não</td>\n",
              "      <td>Não</td>\n",
              "      <td>De 1 a 2 anos</td>\n",
              "      <td>Amigos</td>\n",
              "      <td>Não</td>\n",
              "      <td>Sim</td>\n",
              "      <td>Não</td>\n",
              "      <td>Não</td>\n",
              "    </tr>\n",
              "    <tr>\n",
              "      <th>46</th>\n",
              "      <td>Filho(a)</td>\n",
              "      <td>Sim</td>\n",
              "      <td>Masculino</td>\n",
              "      <td>Branca</td>\n",
              "      <td>26 a 33 anos</td>\n",
              "      <td>Até 1 salário mínimo</td>\n",
              "      <td>13</td>\n",
              "      <td>Não</td>\n",
              "      <td>Não</td>\n",
              "      <td>Sim</td>\n",
              "      <td>Acima de 2 anos</td>\n",
              "      <td>Amigos</td>\n",
              "      <td>Sim</td>\n",
              "      <td>Sim</td>\n",
              "      <td>Sim</td>\n",
              "      <td>Sim</td>\n",
              "    </tr>\n",
              "    <tr>\n",
              "      <th>47</th>\n",
              "      <td>Primo(a)</td>\n",
              "      <td>Não</td>\n",
              "      <td>Masculino</td>\n",
              "      <td>Branca</td>\n",
              "      <td>26 a 33 anos</td>\n",
              "      <td>De 1 a 3 salários mínimos</td>\n",
              "      <td>0</td>\n",
              "      <td>Sim</td>\n",
              "      <td>Sim</td>\n",
              "      <td>NaN</td>\n",
              "      <td>NaN</td>\n",
              "      <td>Depressão / Ansiedade</td>\n",
              "      <td>Não</td>\n",
              "      <td>Sim</td>\n",
              "      <td>Sim</td>\n",
              "      <td>Não</td>\n",
              "    </tr>\n",
              "    <tr>\n",
              "      <th>50</th>\n",
              "      <td>Filho(a)</td>\n",
              "      <td>Não</td>\n",
              "      <td>Masculino</td>\n",
              "      <td>Branca</td>\n",
              "      <td>26 a 33 anos</td>\n",
              "      <td>Acima de 4 salários mínimos</td>\n",
              "      <td>45</td>\n",
              "      <td>Sim</td>\n",
              "      <td>Sim</td>\n",
              "      <td>NaN</td>\n",
              "      <td>NaN</td>\n",
              "      <td>Conflitos com os pais;Amigos;Baixa auto-estima</td>\n",
              "      <td>Não</td>\n",
              "      <td>Sim</td>\n",
              "      <td>Sim</td>\n",
              "      <td>Sim</td>\n",
              "    </tr>\n",
              "    <tr>\n",
              "      <th>53</th>\n",
              "      <td>Filho(a)</td>\n",
              "      <td>Sim</td>\n",
              "      <td>Masculino</td>\n",
              "      <td>Branca</td>\n",
              "      <td>18 a 25 anos</td>\n",
              "      <td>Acima de 4 salários mínimos</td>\n",
              "      <td>23</td>\n",
              "      <td>Não</td>\n",
              "      <td>Não</td>\n",
              "      <td>Sim</td>\n",
              "      <td>Acima de 2 anos</td>\n",
              "      <td>Amigos;Baixa auto-estima</td>\n",
              "      <td>Não</td>\n",
              "      <td>Sim</td>\n",
              "      <td>Não</td>\n",
              "      <td>Não</td>\n",
              "    </tr>\n",
              "    <tr>\n",
              "      <th>54</th>\n",
              "      <td>Irmão(ã)</td>\n",
              "      <td>Não</td>\n",
              "      <td>Masculino</td>\n",
              "      <td>Parda</td>\n",
              "      <td>42 a 49 anos</td>\n",
              "      <td>De 1 a 3 salários mínimos</td>\n",
              "      <td>13</td>\n",
              "      <td>Sim</td>\n",
              "      <td>Não</td>\n",
              "      <td>Sim</td>\n",
              "      <td>Menos de 1 ano</td>\n",
              "      <td>Baixa auto-estima;Problemas de moral ou caráter</td>\n",
              "      <td>Não</td>\n",
              "      <td>Sim</td>\n",
              "      <td>Sim</td>\n",
              "      <td>Sim</td>\n",
              "    </tr>\n",
              "  </tbody>\n",
              "</table>\n",
              "</div>"
            ],
            "text/plain": [
              "   Qual o seu grau de parentesco com o dependente químico?  ... Seu familiar se recuperou e não voltou à dependência? \n",
              "1                                            Filho(a)       ...                                                Sim    \n",
              "3                                            Irmão(ã)       ...                                                Não    \n",
              "4                                              Tio(a)       ...                                                Não    \n",
              "7                                            Primo(a)       ...                                                Sim    \n",
              "8                                            Irmão(ã)       ...                                                Não    \n",
              "9                                            Filho(a)       ...                                                Não    \n",
              "10                                           Primo(a)       ...                                                Não    \n",
              "11                                            Cônjuge       ...                                                Não    \n",
              "12                                           Irmão(ã)       ...                                                Não    \n",
              "13                                             Amigo        ...                                                Sim    \n",
              "14                                           Irmão(ã)       ...                                                Sim    \n",
              "16                                            Cônjuge       ...                                                Não    \n",
              "17                                           Irmão(ã)       ...                                                Sim    \n",
              "19                                           Primo(a)       ...                                                Não    \n",
              "20                                           Primo(a)       ...                                                Não    \n",
              "21                                           Irmão(ã)       ...                                                Não    \n",
              "22                                           Sobrinha       ...                                                Não    \n",
              "23                                             Tio(a)       ...                                                Não    \n",
              "24                                            Mãe/Pai       ...                                                Sim    \n",
              "26                                           Irmão(ã)       ...                                                Não    \n",
              "27                                           Irmão(ã)       ...                                                Não    \n",
              "28                                           Irmão(ã)       ...                                                Não    \n",
              "29                                                Avô       ...                                                Sim    \n",
              "30                                           Primo(a)       ...                                                Não    \n",
              "34                                             Tio(a)       ...                                                Não    \n",
              "35                                           Irmão(ã)       ...                                                Sim    \n",
              "37                                             Tio(a)       ...                                                Não    \n",
              "38                                            Cunhado       ...                                                Não    \n",
              "40                                           Irmão(ã)       ...                                                Sim    \n",
              "41                                            Mãe/Pai       ...                                                Sim    \n",
              "43                                           Primo(a)       ...                                                Não    \n",
              "46                                           Filho(a)       ...                                                Sim    \n",
              "47                                           Primo(a)       ...                                                Não    \n",
              "50                                           Filho(a)       ...                                                Sim    \n",
              "53                                           Filho(a)       ...                                                Não    \n",
              "54                                           Irmão(ã)       ...                                                Sim    \n",
              "\n",
              "[36 rows x 16 columns]"
            ]
          },
          "metadata": {
            "tags": []
          },
          "execution_count": 33
        }
      ]
    },
    {
      "cell_type": "code",
      "metadata": {
        "id": "BC7gpiiV0uuH",
        "colab": {
          "base_uri": "https://localhost:8080/"
        },
        "outputId": "8f2a9589-5e72-4e9f-b0a2-6c6e5b5d9910"
      },
      "source": [
        "# uma olhadinha final no tamanho do nosso dataset\n",
        "df3.shape"
      ],
      "execution_count": null,
      "outputs": [
        {
          "output_type": "execute_result",
          "data": {
            "text/plain": [
              "(36, 16)"
            ]
          },
          "metadata": {
            "tags": []
          },
          "execution_count": 34
        }
      ]
    },
    {
      "cell_type": "code",
      "metadata": {
        "id": "vaZpT7s42mP1",
        "colab": {
          "base_uri": "https://localhost:8080/"
        },
        "outputId": "62a3c60c-51a9-49a1-d383-9aaff098e196"
      },
      "source": [
        "pip install pywaffle"
      ],
      "execution_count": null,
      "outputs": [
        {
          "output_type": "stream",
          "text": [
            "Requirement already satisfied: pywaffle in /usr/local/lib/python3.6/dist-packages (0.6.1)\n",
            "Requirement already satisfied: matplotlib in /usr/local/lib/python3.6/dist-packages (from pywaffle) (3.2.2)\n",
            "Requirement already satisfied: kiwisolver>=1.0.1 in /usr/local/lib/python3.6/dist-packages (from matplotlib->pywaffle) (1.3.1)\n",
            "Requirement already satisfied: numpy>=1.11 in /usr/local/lib/python3.6/dist-packages (from matplotlib->pywaffle) (1.18.5)\n",
            "Requirement already satisfied: cycler>=0.10 in /usr/local/lib/python3.6/dist-packages (from matplotlib->pywaffle) (0.10.0)\n",
            "Requirement already satisfied: python-dateutil>=2.1 in /usr/local/lib/python3.6/dist-packages (from matplotlib->pywaffle) (2.8.1)\n",
            "Requirement already satisfied: pyparsing!=2.0.4,!=2.1.2,!=2.1.6,>=2.0.1 in /usr/local/lib/python3.6/dist-packages (from matplotlib->pywaffle) (2.4.7)\n",
            "Requirement already satisfied: six in /usr/local/lib/python3.6/dist-packages (from cycler>=0.10->matplotlib->pywaffle) (1.15.0)\n"
          ],
          "name": "stdout"
        }
      ]
    },
    {
      "cell_type": "code",
      "metadata": {
        "id": "WGxM7hGz2qEe"
      },
      "source": [
        "import matplotlib.pyplot as plt\n",
        "from pywaffle import Waffle\n",
        "%matplotlib inline"
      ],
      "execution_count": null,
      "outputs": []
    },
    {
      "cell_type": "markdown",
      "metadata": {
        "id": "aUiYvgpex25n"
      },
      "source": [
        "# Análise dos dados\n",
        "\n",
        "A finalidade dessa pesquisa foi elencar os principais motivos, do ponto de vista dos familiares, que levaram os dependentes químicos ao consumo dessas substâncias. \n",
        "\n",
        "A população total foi de: 55 familiares, o questionário foi enviado por meio de aplicativo WhatsApp e Facebook "
      ]
    },
    {
      "cell_type": "markdown",
      "metadata": {
        "id": "xE5NGa9C1vk3"
      },
      "source": [
        "##Análise das respostas:\n",
        "\n",
        "1. Você possui familiares com dependência química?"
      ]
    },
    {
      "cell_type": "code",
      "metadata": {
        "id": "gLUAmEs0srbw",
        "colab": {
          "base_uri": "https://localhost:8080/"
        },
        "outputId": "700fd119-fc7e-4753-8e17-36fa9fd81496"
      },
      "source": [
        "df['Você possui familiares com dependência química?'].value_counts()"
      ],
      "execution_count": null,
      "outputs": [
        {
          "output_type": "execute_result",
          "data": {
            "text/plain": [
              "Sim    36\n",
              "Não    17\n",
              "Name: Você possui familiares com dependência química?, dtype: int64"
            ]
          },
          "metadata": {
            "tags": []
          },
          "execution_count": 37
        }
      ]
    },
    {
      "cell_type": "code",
      "metadata": {
        "id": "sbEhfZFk2wwp",
        "colab": {
          "base_uri": "https://localhost:8080/",
          "height": 201
        },
        "outputId": "6b94653a-5714-4cd1-d2d4-a6107dbfe320"
      },
      "source": [
        "fig = plt.figure(\n",
        "                FigureClass=Waffle,\n",
        "                rows=5,\n",
        "                columns=11,\n",
        "                values={'36 possui': 36,\n",
        "                        '17 não possui': 17}, \n",
        "                colors= ('red','green'),                \n",
        "                icons= 'child', icon_size=16,                     \n",
        "                legend={'loc': 'upper left','bbox_to_anchor': (1.1, 1)}\n",
        "                )\n",
        " \n",
        "fig.set_tight_layout(False)\n",
        "plt.title('Você possui familiares com dependência química?', fontsize=16)\n",
        "plt.savefig('familias com dependentes', format='png')\n",
        "plt.show()"
      ],
      "execution_count": null,
      "outputs": [
        {
          "output_type": "display_data",
          "data": {
            "image/png": "[encoded data removed]",
            "text/plain": [
              "<Waffle size 432x288 with 1 Axes>"
            ]
          },
          "metadata": {
            "tags": [],
            "needs_background": "light"
          }
        }
      ]
    },
    {
      "cell_type": "markdown",
      "metadata": {
        "id": "NGwE2ZnF6XPv"
      },
      "source": [
        "2.Qual o seu grau de parentesco com o dependente químico?"
      ]
    },
    {
      "cell_type": "code",
      "metadata": {
        "id": "wJYCJoJM8aYL",
        "colab": {
          "base_uri": "https://localhost:8080/",
          "height": 383
        },
        "outputId": "87d4eb6f-ec2d-471f-b4c9-b63cb41029eb"
      },
      "source": [
        "sns.catplot(y='Qual o seu grau de parentesco com o dependente químico?', data=df3, kind='count', palette='Dark2')\n",
        "plt.ylabel('Grau de parentesco', fontsize=18)\n",
        "plt.xlabel(' ')\n",
        "plt.grid(False, linestyle='dotted', linewidth=0.5, axis='x')"
      ],
      "execution_count": null,
      "outputs": [
        {
          "output_type": "display_data",
          "data": {
            "image/png": "[encoded data removed]",
            "text/plain": [
              "<Figure size 360x360 with 1 Axes>"
            ]
          },
          "metadata": {
            "tags": [],
            "needs_background": "light"
          }
        }
      ]
    },
    {
      "cell_type": "markdown",
      "metadata": {
        "id": "BD_aoCU1oy6H"
      },
      "source": [
        "3.Atualmente você é responsável pelo dependente químico?"
      ]
    },
    {
      "cell_type": "code",
      "metadata": {
        "id": "lqSMMC1M0dDg",
        "colab": {
          "base_uri": "https://localhost:8080/"
        },
        "outputId": "90a22841-e965-489f-b198-f88feca7a4f4"
      },
      "source": [
        "df3['Atualmente você é responsável pelo dependente químico?'].value_counts()"
      ],
      "execution_count": null,
      "outputs": [
        {
          "output_type": "execute_result",
          "data": {
            "text/plain": [
              "Não    24\n",
              "Sim    12\n",
              "Name: Atualmente você é responsável pelo dependente químico?, dtype: int64"
            ]
          },
          "metadata": {
            "tags": []
          },
          "execution_count": 40
        }
      ]
    },
    {
      "cell_type": "code",
      "metadata": {
        "id": "CsaSQESBnqaY",
        "colab": {
          "base_uri": "https://localhost:8080/",
          "height": 270
        },
        "outputId": "d43a212f-4148-4b5e-f62f-0e50901c666b"
      },
      "source": [
        "fig = plt.figure(\n",
        "                FigureClass=Waffle,\n",
        "                rows=7,\n",
        "                columns=7,\n",
        "                values={'24 não': 24,\n",
        "                        '12 sim': 12}, \n",
        "                colors= ('red','green'),\n",
        "                icons= 'circle', icon_size=26,                     \n",
        "                legend={'loc': 'upper left','bbox_to_anchor': (1.1, 1)}\n",
        "                )\n",
        " \n",
        "fig.set_tight_layout(False)\n",
        "plt.title('Atualmente você é responsável pelo dependente químico?', fontsize=16)\n",
        "plt.show()"
      ],
      "execution_count": null,
      "outputs": [
        {
          "output_type": "display_data",
          "data": {
            "image/png": "[encoded data removed]",
            "text/plain": [
              "<Waffle size 432x288 with 1 Axes>"
            ]
          },
          "metadata": {
            "tags": [],
            "needs_background": "light"
          }
        }
      ]
    },
    {
      "cell_type": "markdown",
      "metadata": {
        "id": "mnQZ5m4ErRmj"
      },
      "source": [
        "4.Qual o gênero do dependente químico?"
      ]
    },
    {
      "cell_type": "code",
      "metadata": {
        "id": "gXmOgDEE3Sf2",
        "colab": {
          "base_uri": "https://localhost:8080/"
        },
        "outputId": "b9415452-196e-4fac-99a0-fd3351a0bb06"
      },
      "source": [
        "df3['Qual o gênero do dependente químico? '].value_counts()"
      ],
      "execution_count": null,
      "outputs": [
        {
          "output_type": "execute_result",
          "data": {
            "text/plain": [
              "Masculino    31\n",
              "Feminino      4\n",
              "Outros        1\n",
              "Name: Qual o gênero do dependente químico? , dtype: int64"
            ]
          },
          "metadata": {
            "tags": []
          },
          "execution_count": 42
        }
      ]
    },
    {
      "cell_type": "code",
      "metadata": {
        "id": "DBEgrVri3dqy",
        "colab": {
          "base_uri": "https://localhost:8080/",
          "height": 266
        },
        "outputId": "5fa9d37a-7e76-4a10-e3df-5d83b6330517"
      },
      "source": [
        "labels = 'Masculino', 'Feminino', 'Outros'\n",
        "sizes = [31, 4, 1]\n",
        "explode = (0.1, 0, 0)\n",
        "\n",
        "fig1, ax1 = plt.subplots()\n",
        "ax1.pie(sizes, explode=explode, labels=labels, autopct='%1.1f%%',\n",
        "       shadow=True, startangle=90)  # gráfico de pizza\n",
        "ax1.axis('equal')   # Proporção de aspecto igual garante que a torta seja desenhada como um círculo.\n",
        "plt.title('Gênero', fontsize=16, loc='left')\n",
        "plt.show()"
      ],
      "execution_count": null,
      "outputs": [
        {
          "output_type": "display_data",
          "data": {
            "image/png": "[encoded data removed]",
            "text/plain": [
              "<Figure size 432x288 with 1 Axes>"
            ]
          },
          "metadata": {
            "tags": []
          }
        }
      ]
    },
    {
      "cell_type": "markdown",
      "metadata": {
        "id": "CAQmbIDmxkqi"
      },
      "source": [
        "5.Qual a cor do dependente químico?\n",
        "\n",
        "\n"
      ]
    },
    {
      "cell_type": "code",
      "metadata": {
        "id": "BNOvcL2p5gsj",
        "colab": {
          "base_uri": "https://localhost:8080/"
        },
        "outputId": "02bed124-422c-4fda-a7e2-b35026358f0c"
      },
      "source": [
        "df3['Qual a cor do dependente químico? '].value_counts()"
      ],
      "execution_count": null,
      "outputs": [
        {
          "output_type": "execute_result",
          "data": {
            "text/plain": [
              "Branca    15\n",
              "Parda     12\n",
              "Preta      9\n",
              "Name: Qual a cor do dependente químico? , dtype: int64"
            ]
          },
          "metadata": {
            "tags": []
          },
          "execution_count": 44
        }
      ]
    },
    {
      "cell_type": "code",
      "metadata": {
        "id": "0x7JUG4HxldJ",
        "colab": {
          "base_uri": "https://localhost:8080/",
          "height": 266
        },
        "outputId": "1ab6c798-af77-4333-fe43-6ceb152b5797"
      },
      "source": [
        "labels = 'Branca', 'Parda', 'Preta'\n",
        "sizes = [15, 12, 9]\n",
        "explode = (0.1, 0, 0)\n",
        "\n",
        "fig1, ax1 = plt.subplots()\n",
        "ax1.pie(sizes, explode=explode, labels=labels, autopct='%1.1f%%',\n",
        "       shadow=True, startangle=90)  # gráfico de pizza\n",
        "ax1.axis('equal')   # Proporção de aspecto igual garante que a torta seja desenhada como um círculo.\n",
        "plt.title('Cor', fontsize=16, loc='left')\n",
        "plt.show()"
      ],
      "execution_count": null,
      "outputs": [
        {
          "output_type": "display_data",
          "data": {
            "image/png": "[encoded data removed]",
            "text/plain": [
              "<Figure size 432x288 with 1 Axes>"
            ]
          },
          "metadata": {
            "tags": []
          }
        }
      ]
    },
    {
      "cell_type": "markdown",
      "metadata": {
        "id": "rlu6UivVx3uZ"
      },
      "source": [
        "6.Qual a idade do dependente químico?"
      ]
    },
    {
      "cell_type": "code",
      "metadata": {
        "id": "0957dPLQx5Wz",
        "colab": {
          "base_uri": "https://localhost:8080/",
          "height": 413
        },
        "outputId": "3935c0f6-31a4-4fa5-eaaf-80ad4a8227ab"
      },
      "source": [
        "plt.rcParams['figure.figsize']=(8,5)\n",
        "\n",
        "sns.countplot(df3['Qual a idade do dependente químico?'], palette='inferno')\n",
        "plt.xlabel('Faixa de idade', fontsize=18)\n",
        "plt.ylabel(' ')\n"
      ],
      "execution_count": null,
      "outputs": [
        {
          "output_type": "stream",
          "text": [
            "/usr/local/lib/python3.6/dist-packages/seaborn/_decorators.py:43: FutureWarning: Pass the following variable as a keyword arg: x. From version 0.12, the only valid positional argument will be `data`, and passing other arguments without an explicit keyword will result in an error or misinterpretation.\n",
            "  FutureWarning\n"
          ],
          "name": "stderr"
        },
        {
          "output_type": "execute_result",
          "data": {
            "text/plain": [
              "Text(0, 0.5, ' ')"
            ]
          },
          "metadata": {
            "tags": []
          },
          "execution_count": 46
        },
        {
          "output_type": "display_data",
          "data": {
            "image/png": "[encoded data removed]",
            "text/plain": [
              "<Figure size 576x360 with 1 Axes>"
            ]
          },
          "metadata": {
            "tags": [],
            "needs_background": "light"
          }
        }
      ]
    },
    {
      "cell_type": "markdown",
      "metadata": {
        "id": "mjhMfyk58Clc"
      },
      "source": [
        "7.Qual é a renda familiar?"
      ]
    },
    {
      "cell_type": "code",
      "metadata": {
        "id": "-3gc6k987lbN",
        "colab": {
          "base_uri": "https://localhost:8080/"
        },
        "outputId": "9917ed61-d0ee-43ad-f6ed-444d4976197f"
      },
      "source": [
        "df3['Qual é a renda familiar? '].value_counts()"
      ],
      "execution_count": null,
      "outputs": [
        {
          "output_type": "execute_result",
          "data": {
            "text/plain": [
              "De 1 a 3 salários mínimos      19\n",
              "Até 1 salário mínimo           15\n",
              "Acima de 4 salários mínimos     2\n",
              "Name: Qual é a renda familiar? , dtype: int64"
            ]
          },
          "metadata": {
            "tags": []
          },
          "execution_count": 47
        }
      ]
    },
    {
      "cell_type": "code",
      "metadata": {
        "id": "4_8xYBF68Jw1",
        "colab": {
          "base_uri": "https://localhost:8080/",
          "height": 324
        },
        "outputId": "d3d3a995-5f22-4486-942f-bd9a4c716c71"
      },
      "source": [
        "fig = plt.figure(\n",
        "                FigureClass=Waffle,\n",
        "                rows=7,\n",
        "                columns=7,\n",
        "                values={'19 Até 1 salário mínimo': 19,\n",
        "                        '15 De 1 a 3 salários mínimos': 15,\n",
        "                        '2 Acima de 4 salários mínimos':2}, \n",
        "                colors= ('red','green', 'blue'),\n",
        "                icons= 'hand-holding-usd', icon_size=28,                     \n",
        "                legend={'loc': 'upper left','bbox_to_anchor': (1.1, 1)}\n",
        "                )\n",
        " \n",
        "fig.set_tight_layout(False)\n",
        "plt.title('Qual é a renda familiar?', fontsize=16)\n",
        "plt.show()"
      ],
      "execution_count": null,
      "outputs": [
        {
          "output_type": "display_data",
          "data": {
            "image/png": "[encoded data removed]",
            "text/plain": [
              "<Waffle size 576x360 with 1 Axes>"
            ]
          },
          "metadata": {
            "tags": [],
            "needs_background": "light"
          }
        }
      ]
    },
    {
      "cell_type": "markdown",
      "metadata": {
        "id": "O4w-rRc3Hjzl"
      },
      "source": [
        "8.Em qual idade você descobriu que o seu familiar fazia uso de drogas? Digite somente a idade."
      ]
    },
    {
      "cell_type": "code",
      "metadata": {
        "id": "HWwrVnmFJ9m_",
        "colab": {
          "base_uri": "https://localhost:8080/",
          "height": 413
        },
        "outputId": "e9883ed4-2143-4939-ded6-e5d9ec0e8660"
      },
      "source": [
        "sns.distplot(df3['Em qual idade você descobriu que o seu familiar fazia uso de drogas? Digite somente a idade.'].dropna(), color='blue')\n",
        "plt.xlabel('Idade inicial do consumo', fontsize='18')\n",
        "plt.ylabel(' ')"
      ],
      "execution_count": null,
      "outputs": [
        {
          "output_type": "stream",
          "text": [
            "/usr/local/lib/python3.6/dist-packages/seaborn/distributions.py:2551: FutureWarning: `distplot` is a deprecated function and will be removed in a future version. Please adapt your code to use either `displot` (a figure-level function with similar flexibility) or `histplot` (an axes-level function for histograms).\n",
            "  warnings.warn(msg, FutureWarning)\n"
          ],
          "name": "stderr"
        },
        {
          "output_type": "execute_result",
          "data": {
            "text/plain": [
              "Text(0, 0.5, ' ')"
            ]
          },
          "metadata": {
            "tags": []
          },
          "execution_count": 68
        },
        {
          "output_type": "display_data",
          "data": {
            "image/png": "[encoded data removed]",
            "text/plain": [
              "<Figure size 1080x360 with 1 Axes>"
            ]
          },
          "metadata": {
            "tags": [],
            "needs_background": "light"
          }
        }
      ]
    },
    {
      "cell_type": "markdown",
      "metadata": {
        "id": "LH8W8jpVMGrW"
      },
      "source": [
        "9.Há outros casos de dependência química anteriores a esse na família?"
      ]
    },
    {
      "cell_type": "code",
      "metadata": {
        "id": "6RsPzMYaMVgG",
        "colab": {
          "base_uri": "https://localhost:8080/"
        },
        "outputId": "52940047-a5ce-4e2c-8d00-3b3ac399d0a5"
      },
      "source": [
        "df3['Há outros casos  de dependência química anteriores a esse na família?'].value_counts()"
      ],
      "execution_count": null,
      "outputs": [
        {
          "output_type": "execute_result",
          "data": {
            "text/plain": [
              "Sim    22\n",
              "Não    14\n",
              "Name: Há outros casos  de dependência química anteriores a esse na família?, dtype: int64"
            ]
          },
          "metadata": {
            "tags": []
          },
          "execution_count": 70
        }
      ]
    },
    {
      "cell_type": "code",
      "metadata": {
        "id": "rG4h9J3DMONA",
        "colab": {
          "base_uri": "https://localhost:8080/",
          "height": 321
        },
        "outputId": "759a02a5-054a-4630-8600-ad425734b948"
      },
      "source": [
        "labels = 'Não', 'Sim'\n",
        "sizes = [14, 22]\n",
        "explode = (0.1, 0)\n",
        "c= ['#00CED1','#0000CD']\n",
        "\n",
        "fig1, ax1 = plt.subplots()\n",
        "ax1.pie(sizes, explode=explode, labels=labels, autopct='%1.1f%%',\n",
        "       shadow=True, startangle=90, colors=c)  # gráfico de pizza\n",
        "ax1.axis('equal')   # Proporção de aspecto igual garante que a torta seja desenhada como um círculo.\n",
        "\n",
        "plt.title('Famílias com outros casos', fontsize=16)\n",
        "plt.show()"
      ],
      "execution_count": null,
      "outputs": [
        {
          "output_type": "display_data",
          "data": {
            "image/png": "[encoded data removed]",
            "text/plain": [
              "<Figure size 1080x360 with 1 Axes>"
            ]
          },
          "metadata": {
            "tags": []
          }
        }
      ]
    },
    {
      "cell_type": "markdown",
      "metadata": {
        "id": "6-FdeRVKT3a6"
      },
      "source": [
        "10.Seu familiar está empregado?"
      ]
    },
    {
      "cell_type": "code",
      "metadata": {
        "id": "MxXkRM6QT7Yc",
        "colab": {
          "base_uri": "https://localhost:8080/"
        },
        "outputId": "e5760a4c-c776-4ffb-86a7-b35f3b99e7a0"
      },
      "source": [
        "df2['Seu familiar está empregado?'].value_counts()"
      ],
      "execution_count": null,
      "outputs": [
        {
          "output_type": "execute_result",
          "data": {
            "text/plain": [
              "Não    26\n",
              "Sim    10\n",
              "Name: Seu familiar está empregado?, dtype: int64"
            ]
          },
          "metadata": {
            "tags": []
          },
          "execution_count": 80
        }
      ]
    },
    {
      "cell_type": "code",
      "metadata": {
        "id": "KzKer5N4T1xY",
        "colab": {
          "base_uri": "https://localhost:8080/",
          "height": 321
        },
        "outputId": "493f1c4a-8eb3-403b-9c92-29df08d76fdb"
      },
      "source": [
        "labels = 'Não', 'Sim'\n",
        "sizes = [26, 10]\n",
        "explode = (0.1, 0)\n",
        "c= ['#00CED1','#0000CD']\n",
        "\n",
        "fig1, ax1 = plt.subplots()\n",
        "ax1.pie(sizes, explode=explode, labels=labels, autopct='%1.1f%%',\n",
        "       shadow=True, startangle=90, colors=c)  # gráfico de pizza\n",
        "ax1.axis('equal')   # Proporção de aspecto igual garante que a torta seja desenhada como um círculo.\n",
        "\n",
        "plt.title('Dependente continua empregado', fontsize=16)\n",
        "plt.show()"
      ],
      "execution_count": null,
      "outputs": [
        {
          "output_type": "display_data",
          "data": {
            "image/png": "[encoded data removed]",
            "text/plain": [
              "<Figure size 1080x360 with 1 Axes>"
            ]
          },
          "metadata": {
            "tags": []
          }
        }
      ]
    },
    {
      "cell_type": "markdown",
      "metadata": {
        "id": "9t2unPlqUoAu"
      },
      "source": [
        "11.Se não estiver empregado, perdeu ou não conseguiu arrumar emprego por conta da dependência? (se estiver empregado não responder)"
      ]
    },
    {
      "cell_type": "code",
      "metadata": {
        "id": "1mIxMlTsVIxB",
        "colab": {
          "base_uri": "https://localhost:8080/"
        },
        "outputId": "c2100c26-0e8f-4e46-d404-530adcd08b1a"
      },
      "source": [
        "df3['Se não estiver empregado, perdeu ou não conseguiu arrumar emprego por conta da dependência? (se estiver empregado não responder)'].value_counts()"
      ],
      "execution_count": null,
      "outputs": [
        {
          "output_type": "execute_result",
          "data": {
            "text/plain": [
              "Sim    20\n",
              "Não     8\n",
              "Name: Se não estiver empregado, perdeu ou não conseguiu arrumar emprego por conta da dependência? (se estiver empregado não responder), dtype: int64"
            ]
          },
          "metadata": {
            "tags": []
          },
          "execution_count": 84
        }
      ]
    },
    {
      "cell_type": "code",
      "metadata": {
        "id": "eW4gzLWpUvSy",
        "colab": {
          "base_uri": "https://localhost:8080/",
          "height": 322
        },
        "outputId": "e11a0c63-a4ac-4f8c-e795-e36f987f8241"
      },
      "source": [
        "fig = plt.figure(\n",
        "                FigureClass=Waffle,\n",
        "                rows=10,\n",
        "                columns=10,\n",
        "                values={'20 sim': 20,\n",
        "                        '8 não': 8}, \n",
        "                colors= ('#4B0082','#C71585'),\n",
        "                #icons= 'circle', icon_size=26,                     \n",
        "                legend={'loc': 'upper left','bbox_to_anchor': (1.1, 1)}\n",
        "                )\n",
        " \n",
        "fig.set_tight_layout(False)\n",
        "plt.title('Perda do emprego por causa da dependência', fontsize=16)\n",
        "plt.show()"
      ],
      "execution_count": null,
      "outputs": [
        {
          "output_type": "display_data",
          "data": {
            "image/png": "[encoded data removed]",
            "text/plain": [
              "<Waffle size 1080x360 with 1 Axes>"
            ]
          },
          "metadata": {
            "tags": [],
            "needs_background": "light"
          }
        }
      ]
    },
    {
      "cell_type": "markdown",
      "metadata": {
        "id": "ErlQCaFcXdh5"
      },
      "source": [
        "12.Se estiver desempregado, há quanto tempo está nessa situação, sem emprego? ( se estiver empregado não responder)"
      ]
    },
    {
      "cell_type": "code",
      "metadata": {
        "id": "PK4FvS8bXkq4",
        "colab": {
          "base_uri": "https://localhost:8080/"
        },
        "outputId": "50e35962-c50e-4933-b7df-f323997b6aa4"
      },
      "source": [
        "df3['Se estiver desempregado, há quanto tempo está nessa situação, sem emprego? ( se estiver empregado não responder)'].value_counts()"
      ],
      "execution_count": null,
      "outputs": [
        {
          "output_type": "execute_result",
          "data": {
            "text/plain": [
              "Acima de 2 anos    11\n",
              "De 1 a 2 anos      10\n",
              "Menos de 1 ano      9\n",
              "Name: Se estiver desempregado, há quanto tempo está nessa situação, sem emprego? ( se estiver empregado não responder), dtype: int64"
            ]
          },
          "metadata": {
            "tags": []
          },
          "execution_count": 99
        }
      ]
    },
    {
      "cell_type": "code",
      "metadata": {
        "id": "NPMfxylLXce1",
        "colab": {
          "base_uri": "https://localhost:8080/",
          "height": 321
        },
        "outputId": "f889ae34-e345-41cb-dc7f-0926cce223bd"
      },
      "source": [
        "fig = plt.figure(\n",
        "                FigureClass=Waffle,\n",
        "                rows=10,\n",
        "                columns=10,\n",
        "                values={'11 Acima de 2 anos': 1,\n",
        "                        '10 De 1 a 2 anos': 10,\n",
        "                        '9 Menos de 1 ano': 9}, \n",
        "                colors= ('#4B0082','#C71585','#FFD700'),\n",
        "                #icons= 'circle', icon_size=26,                     \n",
        "                legend={'loc': 'upper left','bbox_to_anchor': (1.1, 1)}\n",
        "                )\n",
        " \n",
        "fig.set_tight_layout(False)\n",
        "plt.title('Tempo sem emprego', fontsize=16)\n",
        "plt.show()"
      ],
      "execution_count": null,
      "outputs": [
        {
          "output_type": "display_data",
          "data": {
            "image/png": "[encoded data removed]",
            "text/plain": [
              "<Waffle size 1080x360 with 1 Axes>"
            ]
          },
          "metadata": {
            "tags": [],
            "needs_background": "light"
          }
        }
      ]
    },
    {
      "cell_type": "markdown",
      "metadata": {
        "id": "AwfQzrdFYcxV"
      },
      "source": [
        "13.Na sua opinião, quais fatores contribuíram para seu familiar começar o uso de drogas? (escolha quantas opções quiser)"
      ]
    },
    {
      "cell_type": "code",
      "metadata": {
        "id": "c4tu-AKFZVjN",
        "colab": {
          "base_uri": "https://localhost:8080/"
        },
        "outputId": "66605e5c-ea73-433a-8ef9-c01854f7d3ff"
      },
      "source": [
        "df3['Na sua opinião, quais fatores contribuíram para seu familiar começar o uso de drogas? (escolha quantas opções quiser)'].value_counts()\n"
      ],
      "execution_count": null,
      "outputs": [
        {
          "output_type": "execute_result",
          "data": {
            "text/plain": [
              "Amigos                                                                       10\n",
              "Decepção amorosa                                                              5\n",
              "Decepção amorosa;Depressão / Ansiedade;Baixa auto-estima                      2\n",
              "Amigos;Baixa auto-estima                                                      2\n",
              "Baixa auto-estima                                                             2\n",
              "Depressão / Ansiedade                                                         2\n",
              "Conflitos com os pais;Amigos;Depressão / Ansiedade                            2\n",
              "Baixa auto-estima;Problemas de moral ou caráter                               1\n",
              "Amigos;Falta de emprego;Depressão / Ansiedade                                 1\n",
              "Decepção amorosa;Falta de emprego;Depressão / Ansiedade;Baixa auto-estima     1\n",
              "Conflitos com os pais;Depressão / Ansiedade                                   1\n",
              "Decepção amorosa;Amigos;Baixa auto-estima                                     1\n",
              "Começou a fazer o uso de drogas depois que minha mãe adoeceu.                 1\n",
              "Falta de emprego                                                              1\n",
              "Decepção amorosa;Depressão / Ansiedade                                        1\n",
              "Decepção amorosa;Conflitos com os pais;Depressão / Ansiedade                  1\n",
              "Influencia de familiares                                                      1\n",
              "Conflitos com os pais;Amigos;Baixa auto-estima                                1\n",
              "Name: Na sua opinião, quais fatores contribuíram para seu familiar começar o uso de drogas? (escolha quantas opções quiser), dtype: int64"
            ]
          },
          "metadata": {
            "tags": []
          },
          "execution_count": 118
        }
      ]
    },
    {
      "cell_type": "code",
      "metadata": {
        "id": "ZM95H6MtZ24G"
      },
      "source": [
        "fatores = {'fator':['amigos','decepcao_amorosa','depressao_ansiedade','baixa_auto_estima','conflito_pais','desemprego','carater','doença_de_familiar','influencia_familiar'],\n",
        "           'respostas': [15,11,11,10,5,3,1,1,1]}"
      ],
      "execution_count": null,
      "outputs": []
    },
    {
      "cell_type": "code",
      "metadata": {
        "id": "7SWg-3SMebzg"
      },
      "source": [
        "ss = pd.DataFrame(data=fatores)"
      ],
      "execution_count": null,
      "outputs": []
    },
    {
      "cell_type": "code",
      "metadata": {
        "id": "kuns6GeDYlBY",
        "colab": {
          "base_uri": "https://localhost:8080/",
          "height": 352
        },
        "outputId": "76825d64-8ea4-421a-cc0b-ab2d7aebca6f"
      },
      "source": [
        "plt.rcParams['figure.figsize']=(20,5)\n",
        "\n",
        "sns.barplot(x='fator', y='respostas', data=ss, palette='Dark2')\n",
        "plt.ylabel('Fatores de influência' ,fontsize=18)\n",
        "plt.xlabel(' ')\n",
        "#plt.grid(False, linestyle='dotted', linewidth=0.5, axis='x')"
      ],
      "execution_count": null,
      "outputs": [
        {
          "output_type": "execute_result",
          "data": {
            "text/plain": [
              "Text(0.5, 0, ' ')"
            ]
          },
          "metadata": {
            "tags": []
          },
          "execution_count": 139
        },
        {
          "output_type": "display_data",
          "data": {
            "image/png": "[encoded data removed]",
            "text/plain": [
              "<Figure size 1440x360 with 1 Axes>"
            ]
          },
          "metadata": {
            "tags": [],
            "needs_background": "light"
          }
        }
      ]
    },
    {
      "cell_type": "markdown",
      "metadata": {
        "id": "Nd7sct1qit2L"
      },
      "source": [
        "14.Você tem algum auxilio do poder público para o tratamento do seu familiar? (atendimento do serviço social, auxilio da previdência ou algum outro beneficio)"
      ]
    },
    {
      "cell_type": "code",
      "metadata": {
        "colab": {
          "base_uri": "https://localhost:8080/"
        },
        "id": "uWvbBTLloFyj",
        "outputId": "849c8f92-ded5-42fd-9c18-57475fb2944c"
      },
      "source": [
        "df3['Você tem algum auxilio do poder público para o tratamento do seu familiar? (atendimento do serviço social, auxilio da previdência ou algum outro beneficio)'].value_counts()"
      ],
      "execution_count": null,
      "outputs": [
        {
          "output_type": "execute_result",
          "data": {
            "text/plain": [
              "Não    31\n",
              "Sim     5\n",
              "Name: Você tem algum auxilio do poder público para o tratamento do seu familiar? (atendimento do serviço social, auxilio da previdência ou algum outro beneficio), dtype: int64"
            ]
          },
          "metadata": {
            "tags": []
          },
          "execution_count": 142
        }
      ]
    },
    {
      "cell_type": "code",
      "metadata": {
        "colab": {
          "base_uri": "https://localhost:8080/",
          "height": 321
        },
        "id": "eje1UT0YoEdK",
        "outputId": "26590ea3-ce3c-473a-8656-6aea6aba9565"
      },
      "source": [
        "labels = 'Não', 'Sim'\n",
        "sizes = [31, 5]\n",
        "explode = (0.1, 0)\n",
        "c= ['#DAA520','#FF1493']\n",
        "\n",
        "fig1, ax1 = plt.subplots()\n",
        "ax1.pie(sizes, explode=explode, labels=labels, autopct='%1.1f%%',\n",
        "       shadow=True, startangle=90, colors=c)  # gráfico de pizza\n",
        "ax1.axis('equal')   # Proporção de aspecto igual garante que a torta seja desenhada como um círculo.\n",
        "\n",
        "plt.title('Recebe beneficio do governo', fontsize=16)\n",
        "plt.show()"
      ],
      "execution_count": null,
      "outputs": [
        {
          "output_type": "display_data",
          "data": {
            "image/png": "[encoded data removed]",
            "text/plain": [
              "<Figure size 1440x360 with 1 Axes>"
            ]
          },
          "metadata": {
            "tags": []
          }
        }
      ]
    },
    {
      "cell_type": "markdown",
      "metadata": {
        "id": "IRgBlVN3pVz_"
      },
      "source": [
        "15.Você acredita na recuperação do seu familiar?\n",
        "\n"
      ]
    },
    {
      "cell_type": "code",
      "metadata": {
        "colab": {
          "base_uri": "https://localhost:8080/"
        },
        "id": "z0bWa-oHpYzY",
        "outputId": "392ed7bf-9b0c-4039-b09b-038754ce41a3"
      },
      "source": [
        "df3['Você acredita na recuperação do seu familiar? '].value_counts()"
      ],
      "execution_count": null,
      "outputs": [
        {
          "output_type": "execute_result",
          "data": {
            "text/plain": [
              "Sim    35\n",
              "Não     1\n",
              "Name: Você acredita na recuperação do seu familiar? , dtype: int64"
            ]
          },
          "metadata": {
            "tags": []
          },
          "execution_count": 147
        }
      ]
    },
    {
      "cell_type": "code",
      "metadata": {
        "colab": {
          "base_uri": "https://localhost:8080/",
          "height": 324
        },
        "id": "20a0AUEQpfk-",
        "outputId": "40161bd1-823e-440c-f741-2509cec270d3"
      },
      "source": [
        "labels = 'Não', 'Sim'\n",
        "sizes = [1, 35]\n",
        "explode = (0.1, 0)\n",
        "c= ['#DAA520','#FF1493']\n",
        "\n",
        "fig1, ax1 = plt.subplots()\n",
        "ax1.pie(sizes, explode=explode, labels=labels, autopct='%1.1f%%',\n",
        "       shadow=True, startangle=90, colors=c)  # gráfico de pizza\n",
        "ax1.axis('equal')   # Proporção de aspecto igual garante que a torta seja desenhada como um círculo.\n",
        "\n",
        "plt.title('Acredita na recuperação', fontsize=16)\n",
        "plt.show()"
      ],
      "execution_count": null,
      "outputs": [
        {
          "output_type": "display_data",
          "data": {
            "image/png": "[encoded data removed]",
            "text/plain": [
              "<Figure size 1440x360 with 1 Axes>"
            ]
          },
          "metadata": {
            "tags": []
          }
        }
      ]
    },
    {
      "cell_type": "markdown",
      "metadata": {
        "id": "2wAuz8xXp3uN"
      },
      "source": [
        "16.Seu familiar já passou por algum tratamento para a dependência química?"
      ]
    },
    {
      "cell_type": "code",
      "metadata": {
        "colab": {
          "base_uri": "https://localhost:8080/",
          "height": 413
        },
        "id": "lJHCBExtqXuX",
        "outputId": "e3e799c2-e929-4577-9bc2-0f2be1bd89ea"
      },
      "source": [
        "plt.rcParams['figure.figsize']=(5,5)\n",
        "\n",
        "sns.countplot(df3['Seu familiar já passou por algum tratamento para a dependência química?'], palette='inferno')\n",
        "plt.xlabel('Já fez algum tratamento', fontsize=18)\n",
        "plt.ylabel(' ')\n"
      ],
      "execution_count": null,
      "outputs": [
        {
          "output_type": "stream",
          "text": [
            "/usr/local/lib/python3.6/dist-packages/seaborn/_decorators.py:43: FutureWarning: Pass the following variable as a keyword arg: x. From version 0.12, the only valid positional argument will be `data`, and passing other arguments without an explicit keyword will result in an error or misinterpretation.\n",
            "  FutureWarning\n"
          ],
          "name": "stderr"
        },
        {
          "output_type": "execute_result",
          "data": {
            "text/plain": [
              "Text(0, 0.5, ' ')"
            ]
          },
          "metadata": {
            "tags": []
          },
          "execution_count": 153
        },
        {
          "output_type": "display_data",
          "data": {
            "image/png": "[encoded data removed]",
            "text/plain": [
              "<Figure size 360x360 with 1 Axes>"
            ]
          },
          "metadata": {
            "tags": [],
            "needs_background": "light"
          }
        }
      ]
    },
    {
      "cell_type": "markdown",
      "metadata": {
        "id": "19P29ai6qqcO"
      },
      "source": [
        "17.Seu familiar se recuperou e não voltou à dependência?"
      ]
    },
    {
      "cell_type": "code",
      "metadata": {
        "colab": {
          "base_uri": "https://localhost:8080/",
          "height": 413
        },
        "id": "xP_WnHO3qtwD",
        "outputId": "32e7d0ba-98e2-4360-918e-d39fc23b8b7f"
      },
      "source": [
        "plt.rcParams['figure.figsize']=(5,5)\n",
        "\n",
        "sns.countplot(df3['Seu familiar se recuperou e não voltou à dependência? '], palette='inferno')\n",
        "plt.xlabel('Recaídas pós tratamento', fontsize=18)\n",
        "plt.ylabel(' ')"
      ],
      "execution_count": null,
      "outputs": [
        {
          "output_type": "stream",
          "text": [
            "/usr/local/lib/python3.6/dist-packages/seaborn/_decorators.py:43: FutureWarning: Pass the following variable as a keyword arg: x. From version 0.12, the only valid positional argument will be `data`, and passing other arguments without an explicit keyword will result in an error or misinterpretation.\n",
            "  FutureWarning\n"
          ],
          "name": "stderr"
        },
        {
          "output_type": "execute_result",
          "data": {
            "text/plain": [
              "Text(0, 0.5, ' ')"
            ]
          },
          "metadata": {
            "tags": []
          },
          "execution_count": 156
        },
        {
          "output_type": "display_data",
          "data": {
            "image/png": "[encoded data removed]",
            "text/plain": [
              "<Figure size 360x360 with 1 Axes>"
            ]
          },
          "metadata": {
            "tags": [],
            "needs_background": "light"
          }
        }
      ]
    },
    {
      "cell_type": "markdown",
      "metadata": {
        "id": "Nll581a0cVbq"
      },
      "source": [
        "Os gráficos foram usados na eleboração de um relatório de fins academicos, que por fatores de aprovação de banca não serão elencados aqui. \n",
        "\n",
        "Elaboração das perguntas: Edimar Ribeiro de Moura\n",
        "\n",
        "Gráficos: Cristina Pineda Ribeiro de Moura\n"
      ]
    },
    {
      "cell_type": "code",
      "metadata": {
        "id": "ZeWwyVaDc8Ql"
      },
      "source": [
        ""
      ],
      "execution_count": null,
      "outputs": []
    }
  ]
}